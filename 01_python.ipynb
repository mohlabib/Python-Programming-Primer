{
 "cells": [
  {
   "cell_type": "markdown",
   "metadata": {},
   "source": [
    "# <center> Chapter 1: Introduction to Python </center>\n",
    "\n",
    "## Learning objectives\n",
    "After processing this chapter you will be able to\n",
    "\n",
    ">-   work with the Python graphical user interface\n",
    ">-   perform basic calculations with numbers, vectors and matrices\n",
    ">-   write and execute script files in any directory\n",
    "\n",
    "\n",
    "## Getting to know your tools\n",
    "\n",
    "The aim of this course is to familiarize the reader with the basic\n",
    "concepts in programming in general. Programming skills are very helpful\n",
    "for scientific research and have to be employed when programming\n",
    "measurement equipment, data analysis routines or simulations.\n",
    "\n",
    "In the case you are already familiar and experienced in programming, this\n",
    "course will not offer many new things. On the\n",
    "other hand, we tried to use examples and exercises from the field of\n",
    "renewable energies which still might be of interest to you. So we\n",
    "suggest that you could read the examples and\n",
    "exercises and make sure that you perfectly understand them.\n",
    "\n",
    "There exists a large number of programming languages. In recent years the Python programming language has become\n",
    "more and more popular in the scientific community due to its very active\n",
    "community which develops and shares many useful library of codes as well\n",
    "the fact that (as for example compared to MATLAB) it is free.\n",
    "\n",
    "There exists large amounts of tutorials and literature on Python and\n",
    "many are admittedly of much higher quality and scope as this course.\n",
    "This course will focus on what we feel is the most important and aims to\n",
    "provide motivational examples from Renewable Energies.\n",
    "\n",
    "## Programming Languages\n",
    "\n",
    "Computers or computing devices make use of sets of grammatical rules or\n",
    "instructions to perform specific tasks and generate desired outputs.\n",
    "These systematically defined set of instructions fed into the computer\n",
    "are known as programming languages. Over the years, programming\n",
    "languages have found its application from basic numerical computations\n",
    "to web app developments, data analysis, simulations, artificial\n",
    "intelligence etc.\n",
    "\n",
    "Programming languages differ in their abstraction level from the machine\n",
    "level. They are roughly categorized as (see also [Wikipedia (PGL)](https://en.wikipedia.org/wiki/Programming_language_generations)):\n",
    "\n",
    "   **1st generation:**  machine languages direct instructions of the processor (only 0s and 1s) non-intuitive to read or write\n",
    "   \n",
    "   **2nd generation:**  assembly languages use labels and names of human languages, commands relate to single instructions\n",
    "   \n",
    "   **3rd generation:**  higher, general languages use commands in the logical structure of human languages (example C), one command may correspond to multiple processor instructions\n",
    "   \n",
    "   **4th generation:**  higher, specialist languages abstracts the general commands to more field specific languages, provides libraries and constructs typical of the specialization field, can be machine independent by using run-time environments\n",
    "   \n",
    "   **5th generation:**  solve problems without a programmer\n",
    "\n",
    "\n",
    "Though generations of programming languages differ in structure and\n",
    "semantics, high-level programming languages are similar in structure and\n",
    "knowledge if one can aid the understanding of another."
   ]
  },
  {
   "cell_type": "markdown",
   "metadata": {},
   "source": [
    "## The python programming language\n",
    "\n",
    "The python programming language was created by Guido van Rossum in the\n",
    "late 1980s. Python has a wide range of applications ranging from web\n",
    "development, scientific and mathematical computing to desktop user\n",
    "interfaces Over the years, Python has gained enormous popularity among\n",
    "programmers due to the following reasons (reference: [Programiz](https://www.programiz.com/python-programming)):\n",
    "\n",
    "-   It is a multi-purpose programming language with very simple syntax,\n",
    "    thereby making it easier to write and read python programs and a\n",
    "    good start point for inexperienced programmers\n",
    "\n",
    "-   Python is free and open- source with a large community of\n",
    "    programmers constantly improving its features and application.\n",
    "    Python codes are also very portable between platforms like Windows,\n",
    "    Mac OS X and Linux\n",
    "\n",
    "-   Python is extensible and embeddable given that it can be combined\n",
    "    with languages such as C/C++ for high performance applications.\n",
    "\n",
    "-   It is a high level, interpreted language removing the challenges\n",
    "    associated with memory management, garbage collection etc. as found\n",
    "    in C/C++Variable type definition are also not applicable given that\n",
    "    it automatically understands the variable input.\n",
    "\n",
    "-   Being an object-oriented programming language, complex problems can\n",
    "    be divided into smaller units by object creation in python allowing\n",
    "    for intuitive solution to complex problems.\n",
    "\n",
    "-   Python has several standard libraries that minimizes the amount of\n",
    "    code needed to execute a task and makes programming easier. For\n",
    "    instance, MYSQL database can be connected to a server simply by\n",
    "    importing a standard library MySQLdb\n",
    "\n",
    "Python has numerous applications. Python frameworks such as Django,\n",
    "Flask, Pyramid etc., and Content Management System (CMS) can be used to\n",
    "build scalable web applications. Python has several libraries such as\n",
    "SciPy, NumPy that can be used for scientific and numerical computing\n",
    "which are especially important for our applications. Specific libraries\n",
    "such as EarthPy and AstroPy are useful for earth science and astronomy\n",
    "respectively. Python packages such as matplotlib and Pandas are\n",
    "important for data visualization and analysis. Given the easy syntax of\n",
    "python, it can be used to create software prototypes such as games in\n",
    "which the actual game can be built using C++ upon prototype validation."
   ]
  },
  {
   "cell_type": "markdown",
   "metadata": {},
   "source": [
    "### Getting started with Python in JupyterLab"
   ]
  },
  {
   "cell_type": "markdown",
   "metadata": {},
   "source": [
    "We use two different types of cells in JupyterLab in this course: Markdown and Code. If you double click on the content you are reading right now, you can check the text written in [Markdown](https://de.wikipedia.org/wiki/Markdown) format. You can edit the contents and press <kbd>shift</kbd> + <kbd>enter</kbd> to run the changes. You select Code (from the upper bar) for cells in which you will add Python code for execution as the below cell. "
   ]
  },
  {
   "cell_type": "code",
   "execution_count": 2,
   "metadata": {},
   "outputs": [
    {
     "data": {
      "text/plain": [
       "16"
      ]
     },
     "execution_count": 2,
     "metadata": {},
     "output_type": "execute_result"
    }
   ],
   "source": [
    "8+8"
   ]
  },
  {
   "cell_type": "markdown",
   "metadata": {},
   "source": [
    "It is recommended to check this [link](https://jupyterlab.readthedocs.io/en/stable/user/interface.html) for more detailed overview of the JupyterLab interface and functionality."
   ]
  },
  {
   "cell_type": "markdown",
   "metadata": {},
   "source": [
    "#### Basic Calculations\n",
    "\n",
    "Numerical operations on basic numbers are performed with the following\n",
    "operators:\n",
    "\n",
    "``` python\n",
    "+, -, *, /\n",
    "```\n",
    "\n",
    "The operations are processed in the standard method known from\n",
    "mathematics, i.e. first multiplication/divisions, secondly\n",
    "addition/subtraction. In order to force that an operation is processed\n",
    "out of this order use parantheses.\n",
    "\n",
    "``` python\n",
    "(  )\n",
    "```\n",
    "\n",
    "To calculate powers of numbers employ the operator:\n",
    "\n",
    "``` python\n",
    "**\n",
    "```\n",
    "\n",
    "💡 ><font color=red>Feel free to change the contents in the below cell and try different operations.</font>"
   ]
  },
  {
   "cell_type": "code",
   "execution_count": 19,
   "metadata": {},
   "outputs": [
    {
     "data": {
      "text/plain": [
       "10.0"
      ]
     },
     "execution_count": 19,
     "metadata": {},
     "output_type": "execute_result"
    }
   ],
   "source": [
    "(8**2 + 6)/7"
   ]
  },
  {
   "cell_type": "markdown",
   "metadata": {},
   "source": [
    "### Scripting a Python Code\n",
    "\n",
    "Of course we usually compose multiple lines of code (for which we use\n",
    "the editor) and which are saved as script files.\n",
    "\n",
    "There are a few things to note while writing a python script:\n",
    "\n",
    "-   Python does what ever you want it to do once your codes are free of\n",
    "    errors\n",
    "\n",
    "-   Python executes the written code sequentially (line by line). It is\n",
    "    important that your code is well structured in an organized flow\n",
    "    path\n",
    "\n",
    "-   When you have more than one statement on a line, then a semicolon is\n",
    "    used to separate them. Writing two statements in one line is however\n",
    "    considered a bad way of programming\n",
    "\n",
    "-   Variable names are case sensitive in python. **print** and **Print**\n",
    "    are two different commands to python."
   ]
  },
  {
   "cell_type": "code",
   "execution_count": 20,
   "metadata": {},
   "outputs": [
    {
     "name": "stdout",
     "output_type": "stream",
     "text": [
      "Hello World!\n"
     ]
    }
   ],
   "source": [
    "print('Hello World!')"
   ]
  },
  {
   "cell_type": "code",
   "execution_count": 21,
   "metadata": {},
   "outputs": [
    {
     "ename": "NameError",
     "evalue": "name 'Print' is not defined",
     "output_type": "error",
     "traceback": [
      "\u001b[1;31m---------------------------------------------------------------------------\u001b[0m",
      "\u001b[1;31mNameError\u001b[0m                                 Traceback (most recent call last)",
      "\u001b[1;32m<ipython-input-21-983c3189a5cf>\u001b[0m in \u001b[0;36m<module>\u001b[1;34m\u001b[0m\n\u001b[1;32m----> 1\u001b[1;33m \u001b[0mPrint\u001b[0m\u001b[1;33m(\u001b[0m\u001b[1;34m'Hello World!'\u001b[0m\u001b[1;33m)\u001b[0m\u001b[1;33m\u001b[0m\u001b[1;33m\u001b[0m\u001b[0m\n\u001b[0m",
      "\u001b[1;31mNameError\u001b[0m: name 'Print' is not defined"
     ]
    }
   ],
   "source": [
    "Print('Hello World!')"
   ]
  },
  {
   "cell_type": "markdown",
   "metadata": {},
   "source": [
    "### Comments and Doc Strings\n",
    "\n",
    "Comments are useful in giving proper explanation of the written code in\n",
    "python. Anything written after the \\# character is comment and ignored\n",
    "by python during code execution. Proper commenting of codes aids its\n",
    "readability and understanding. Comments can be single line comment such\n",
    "as:"
   ]
  },
  {
   "cell_type": "code",
   "execution_count": 24,
   "metadata": {},
   "outputs": [],
   "source": [
    "#This is a single line comment.  "
   ]
  },
  {
   "cell_type": "markdown",
   "metadata": {},
   "source": [
    "or inline comment with code such as:"
   ]
  },
  {
   "cell_type": "code",
   "execution_count": 23,
   "metadata": {},
   "outputs": [
    {
     "name": "stdout",
     "output_type": "stream",
     "text": [
      "Hi There!!\n"
     ]
    }
   ],
   "source": [
    "print(\"Hi There!!\") #This code prints: Hi There!!"
   ]
  },
  {
   "cell_type": "markdown",
   "metadata": {},
   "source": [
    "Documentation strings are like comments but applied at the beginning of\n",
    "a module, class, method or function. They can be accessed and viewed\n",
    "programmatically using `help(obj_name)`, and in IPython\n",
    "by applying a question mark `?` at the end of the module, class or\n",
    "function name."
   ]
  },
  {
   "cell_type": "code",
   "execution_count": 3,
   "metadata": {},
   "outputs": [],
   "source": [
    "def Celsius_2_Fahrenheit_conv():\n",
    "    \"\"\"\n",
    "    This is a function that takes the temperature value in degree Celsius and returns its equivalent in Fahrenheit\n",
    "    \"\"\"\n",
    "    temp = float(input(\"Please enter the temperature value in Celsius degree:\")) # Asks the user for temperature value and stores it in a variable temp\n",
    "    Fahrenheit = 9/5*temp + 32 # Uses the formula to calculate the fahrenheit equivalent\n",
    "    return Fahrenheit"
   ]
  },
  {
   "cell_type": "markdown",
   "metadata": {},
   "source": [
    "In the above example the words enclosed in the three inverted comas\n",
    "\\\"\\\"\\\" are known as documentation strings and simply typing\n",
    "`help(Celsius_2_Fahrenheit_conv)` or `Celsius_2_Fahrenheit_conv?` will display the documentation\n",
    "for the code on the IPython Console. Further information on doc strings\n",
    "can be found [here](https://www.python.org/dev/peps/pep-0257/).\n",
    "\n",
    "When your command line window becomes too full you can use `clear` to\n",
    "empty it."
   ]
  },
  {
   "cell_type": "markdown",
   "metadata": {},
   "source": [
    "## Data types\n",
    "\n",
    "##### Primitive data types\n",
    "\n",
    "On the most basic level all data in a computer is stored and processed\n",
    "in the binary format which can be represented as a sequence of 0's and\n",
    "1's. Given an arbitrary binary sequence such as for example 00100110\n",
    "therefore does not have any meaning in itself.\n",
    "\n",
    "Only when we know how the meaning of the sequence we can interpret it as\n",
    "for instance a part of an mp3 file, an image or a text. Therefore we\n",
    "have to provide to each data that we are using a *data type* in order to\n",
    "decode its meaning.\n",
    "\n",
    "That means also that the same binary sequence can have different\n",
    "meanings depending on its interpretation. For example if we interprete\n",
    "the binary sequence as a positive integer it is interpreted as 38. Yet,\n",
    "if we interprete said sequence as an ASCII character (that is a\n",
    "standardized look-up table for typographic symbols, see for example\n",
    "[this reference](http://www.ascii-code.com/)) the binary sequence corresponds to the ampersand\n",
    "character &.\n",
    "\n",
    "| binary     | integer  | ASCII character |\n",
    "|:----------:|:--------:|:---------------:|\n",
    "| 00100110   | 38       | &               |\n",
    "\n",
    "Beside these two interpretations there exist a few other primitive data\n",
    "types which are used in programming. Notice, that different data types\n",
    "require binary sequences of different (but usually standardized) length.\n",
    "\n",
    "In the table below we name just a few data types to give you an idea\n",
    "what you are working with.\n",
    "\n",
    "| Datatype   | Notes                                                   |\n",
    "|:----------:|:-------------------------------------------------------:|\n",
    "| Integer    | positive or negative integer                            |\n",
    "| Float      | positive/negative number of the type: +0.12345e+10      |\n",
    "| Double     | same as float with double precision (twice as many bits)|\n",
    "| Character  | ASCII character                                         |\n",
    "\n",
    "Python support both numeric and non-numeric data types. A complete\n",
    "overview on in-built data types in python can be found [here](https://docs.python.org/3/library/stdtypes.html).\n",
    "Here we want to give a little bit more detail about the most important\n",
    "data types. The `type` function in python is useful to evaluate the\n",
    "datatype or class of any value.\n",
    "\n",
    "#### Integers\n",
    "\n",
    "Integers are whole numbers i.e. they have non fractional parts and can\n",
    "be positive, negative or zero. 8, -15, 1500 are examples of integers.\n",
    "Python supports a lot of operations such as addition, subtraction,\n",
    "multiplication etc., on integers. The range of integers that can be\n",
    "handled by Python depends on the size (number of bits) of the reserved\n",
    "storage location. For example with an 8bit storage location you can only\n",
    "manage $2^8$ different integers which for unsigned integers only\n",
    "corresponds to the range 0\\...255.\n",
    "\n",
    "#### Float\n",
    "\n",
    "Many numerical computations involve numbers having fractional parts.\n",
    "Such non-integer numbers such as 4.0, -0.09, 3.142 etc. are referred to\n",
    "as floating point numbers since the decimal point can move or 'float' to\n",
    "various positions within the number to maintain proper number of\n",
    "significant digits during mathematical calculations. Python supports the\n",
    "same numerical operations as in integers on floats. Floating point\n",
    "values are usually approximations of real numbers having limited range\n",
    "since each value must be stored in a fixed amount of memory. For\n",
    "instance, $\\pi$ is an irrational number that contains several digits in\n",
    "a non-uniform repeating pattern. Such values can only be approximated\n",
    "using the range of memory available for such data types.\n",
    "\n",
    "The object `sys.float_info` contains information on memories that\n",
    "floats occupy. Float values up to 1.7976931348623157e+308 and\n",
    "2.2250738585072014e-308 can be stored and processed by the computer.\n",
    "Values beyond these ranges will be truncated. In python 2, integer\n",
    "division truncates. This meant that evaluating 4/5 yields 0 as output\n",
    "since Python evaluates it as an integer division; thereby returning the\n",
    "least whole number which is 0. However, this has been corrected in\n",
    "python 3. The functions `float(n)` and `int(n)` can be used to convert\n",
    "any datatype to float and integer respectively."
   ]
  },
  {
   "cell_type": "code",
   "execution_count": 16,
   "metadata": {},
   "outputs": [],
   "source": [
    "import sys"
   ]
  },
  {
   "cell_type": "code",
   "execution_count": 17,
   "metadata": {},
   "outputs": [
    {
     "data": {
      "text/plain": [
       "sys.float_info(max=1.7976931348623157e+308, max_exp=1024, max_10_exp=308, min=2.2250738585072014e-308, min_exp=-1021, min_10_exp=-307, dig=15, mant_dig=53, epsilon=2.220446049250313e-16, radix=2, rounds=1)"
      ]
     },
     "execution_count": 17,
     "metadata": {},
     "output_type": "execute_result"
    }
   ],
   "source": [
    "sys.float_info"
   ]
  },
  {
   "cell_type": "code",
   "execution_count": 9,
   "metadata": {},
   "outputs": [
    {
     "name": "stdout",
     "output_type": "stream",
     "text": [
      "4.5\n"
     ]
    }
   ],
   "source": [
    "a = 9/2\n",
    "print(a)"
   ]
  },
  {
   "cell_type": "code",
   "execution_count": 10,
   "metadata": {},
   "outputs": [
    {
     "data": {
      "text/plain": [
       "float"
      ]
     },
     "execution_count": 10,
     "metadata": {},
     "output_type": "execute_result"
    }
   ],
   "source": [
    "type(a)"
   ]
  },
  {
   "cell_type": "code",
   "execution_count": 13,
   "metadata": {},
   "outputs": [
    {
     "data": {
      "text/plain": [
       "4"
      ]
     },
     "execution_count": 13,
     "metadata": {},
     "output_type": "execute_result"
    }
   ],
   "source": [
    "int(a)"
   ]
  },
  {
   "cell_type": "markdown",
   "metadata": {},
   "source": [
    "However, it is important to note that variable 'a' still has the same value and type.\n",
    "\n",
    "💡 ><font color=red>Insert a cell below and check for yourself</font>"
   ]
  },
  {
   "cell_type": "markdown",
   "metadata": {},
   "source": [
    "#### Complex numbers\n",
    "\n",
    "Python provides a special datatype for complex numbers. If you type\n",
    "a=1+3j you will see in the variable manager that a new variable of the\n",
    "type complex appears."
   ]
  },
  {
   "cell_type": "code",
   "execution_count": 1,
   "metadata": {},
   "outputs": [
    {
     "data": {
      "text/plain": [
       "complex"
      ]
     },
     "execution_count": 1,
     "metadata": {},
     "output_type": "execute_result"
    }
   ],
   "source": [
    "type(1+3j)"
   ]
  },
  {
   "cell_type": "markdown",
   "metadata": {},
   "source": [
    "#### Arrays\n",
    "\n",
    "An array is a data structure that can hold values of same data type. It\n",
    "could be a one, two- or n-dimensional array. A one dimensional array\n",
    "would correspond a vector while a 2-dimensional array would correspond\n",
    "to a matrix. To use arrays in python, you need to import the array\n",
    "module using the `import` command"
   ]
  },
  {
   "cell_type": "markdown",
   "metadata": {},
   "source": [
    "``` python\n",
    "from array import *  # Imports the array module in python\n",
    "```"
   ]
  },
  {
   "cell_type": "markdown",
   "metadata": {},
   "source": [
    "Having imported the array module, an array can be declared as follows:\n",
    "\n",
    "``` python\n",
    "arrayIdentifierName = array(typecode, [Initializers]) \n",
    "```\n",
    "\n",
    "ArrayIdentifierName represents the name of the array, typecode lets\n",
    "python know the data type in the array while initializers are the values\n",
    "with which array is initialized. Common typecodes include:"
   ]
  },
  {
   "cell_type": "markdown",
   "metadata": {},
   "source": [
    "| Typecode | Details                                     |\n",
    "|:--------:|:-------------------------------------------:|\n",
    "| i        | Represents signed integers of size 2 bytes  |\n",
    "| I        | Represents unsigned integer of size 2 bytes |\n",
    "| c        | Represents character of size 1 byte         |\n",
    "| f        | Represents floating point of size 4 bytes   |\n",
    "| d        | Represents floating point of size 8 bytes   |\n",
    "| b        | Represents signed integer of size 1 byte    |\n",
    "| B        | Represents unsigned integer of size 1 byte  |\n",
    "\n",
    "The example below shows an array creation with some array executable\n",
    "operations"
   ]
  },
  {
   "cell_type": "code",
   "execution_count": 1,
   "metadata": {},
   "outputs": [],
   "source": [
    "from array import *  # Imports  the array module in python"
   ]
  },
  {
   "cell_type": "code",
   "execution_count": 2,
   "metadata": {},
   "outputs": [],
   "source": [
    "array_1 = array(\"i\", [2,4,6,8,10]) # Creates an array of integer values named array_1"
   ]
  },
  {
   "cell_type": "code",
   "execution_count": 3,
   "metadata": {},
   "outputs": [
    {
     "data": {
      "text/plain": [
       "array('i', [2, 4, 6, 8, 10])"
      ]
     },
     "execution_count": 3,
     "metadata": {},
     "output_type": "execute_result"
    }
   ],
   "source": [
    "array_1"
   ]
  },
  {
   "cell_type": "code",
   "execution_count": 4,
   "metadata": {},
   "outputs": [],
   "source": [
    "array_1.append(12)                 # Adds 12 to array_1."
   ]
  },
  {
   "cell_type": "code",
   "execution_count": 5,
   "metadata": {},
   "outputs": [
    {
     "data": {
      "text/plain": [
       "array('i', [2, 4, 6, 8, 10, 12])"
      ]
     },
     "execution_count": 5,
     "metadata": {},
     "output_type": "execute_result"
    }
   ],
   "source": [
    "array_1"
   ]
  },
  {
   "cell_type": "code",
   "execution_count": 6,
   "metadata": {},
   "outputs": [],
   "source": [
    "array_2 = array(\"i\", [1, 3,5,7,9]) # Creates another integer array named array_2."
   ]
  },
  {
   "cell_type": "code",
   "execution_count": 7,
   "metadata": {},
   "outputs": [
    {
     "data": {
      "text/plain": [
       "array('i', [1, 3, 5, 7, 9])"
      ]
     },
     "execution_count": 7,
     "metadata": {},
     "output_type": "execute_result"
    }
   ],
   "source": [
    "array_2"
   ]
  },
  {
   "cell_type": "code",
   "execution_count": 8,
   "metadata": {},
   "outputs": [],
   "source": [
    "array_1.extend(array_2)            # Joins the contents of array_2 to array_1"
   ]
  },
  {
   "cell_type": "code",
   "execution_count": 9,
   "metadata": {},
   "outputs": [
    {
     "data": {
      "text/plain": [
       "array('i', [2, 4, 6, 8, 10, 12, 1, 3, 5, 7, 9])"
      ]
     },
     "execution_count": 9,
     "metadata": {},
     "output_type": "execute_result"
    }
   ],
   "source": [
    "array_1"
   ]
  },
  {
   "cell_type": "code",
   "execution_count": 10,
   "metadata": {},
   "outputs": [],
   "source": [
    "array_1.remove(7)                  # Removes 7 from array_1"
   ]
  },
  {
   "cell_type": "code",
   "execution_count": 11,
   "metadata": {},
   "outputs": [
    {
     "data": {
      "text/plain": [
       "array('i', [2, 4, 6, 8, 10, 12, 1, 3, 5, 9])"
      ]
     },
     "execution_count": 11,
     "metadata": {},
     "output_type": "execute_result"
    }
   ],
   "source": [
    "array_1"
   ]
  },
  {
   "cell_type": "code",
   "execution_count": 35,
   "metadata": {},
   "outputs": [],
   "source": [
    "array_1.reverse()                  # Reverses the contents of array_1"
   ]
  },
  {
   "cell_type": "code",
   "execution_count": 36,
   "metadata": {},
   "outputs": [
    {
     "data": {
      "text/plain": [
       "array('i', [9, 5, 3, 1, 12, 10, 8, 6, 4, 2])"
      ]
     },
     "execution_count": 36,
     "metadata": {},
     "output_type": "execute_result"
    }
   ],
   "source": [
    "array_1"
   ]
  },
  {
   "cell_type": "code",
   "execution_count": 53,
   "metadata": {},
   "outputs": [
    {
     "data": {
      "text/plain": [
       "array.array"
      ]
     },
     "execution_count": 53,
     "metadata": {},
     "output_type": "execute_result"
    }
   ],
   "source": [
    "type(array_1)"
   ]
  },
  {
   "cell_type": "markdown",
   "metadata": {},
   "source": [
    "Further documentation on n-dimensional arrays and possible operations on\n",
    "such arrays can be found [here](https://docs.python.org/2/library/array.html). An efficient and more convenient\n",
    "way of handling arrays is using the NumPy arrays. The NumPy module and\n",
    "its usage in python will be discussed in the following sections."
   ]
  },
  {
   "cell_type": "markdown",
   "metadata": {},
   "source": [
    "#### Strings\n",
    "\n",
    "In a table above we have introduced a 'character' (e.g. from the ASCII\n",
    "table) as a datatype. Strings are basically arrays of characters and\n",
    "they are important as they represent a way to communicate with the user\n",
    "for example through written language. Because they are so important they\n",
    "are usually treated a little different from arrays to distinguish them.\n",
    "\n",
    "A string in Python can consist of letters or numbers or a combination of\n",
    "both. They should always be enclosed with either single ' ' or double\n",
    "\\\"\\\" quotation marks. It is important that strings started with one or\n",
    "double quotation mark must be closed with one or double quotation marks\n",
    "respectively. Mind that a numbers in a string are NOT representations of\n",
    "the numerical value but rather just the character representing the\n",
    "numerical value. As example: While 8 is an integer value and 8.7578 is a\n",
    "float value, \\\"8\\\" or '8.7578' is no longer an integer resp. float but a\n",
    "string.\n",
    "The statement `print(8)` prints integer value 8 on the IPython Console.\n",
    "\n",
    "Strings are immutable, indexable and iterable. Given that strings are\n",
    "sequences of characters, they are indexable with the index starting from\n",
    "zero and increasing upwards\n",
    "\n",
    "<center><img src=\"img/01_python/stringsindexing.jpg\"/></center>\n",
    "<center>Figure 1.2: Indexing of Strings. (Source: Author)</center>"
   ]
  },
  {
   "cell_type": "code",
   "execution_count": 80,
   "metadata": {},
   "outputs": [],
   "source": [
    "greeting = 'Hi There!'"
   ]
  },
  {
   "cell_type": "code",
   "execution_count": 81,
   "metadata": {},
   "outputs": [
    {
     "data": {
      "text/plain": [
       "'h'"
      ]
     },
     "execution_count": 81,
     "metadata": {},
     "output_type": "execute_result"
    }
   ],
   "source": [
    "greeting[4]"
   ]
  },
  {
   "cell_type": "markdown",
   "metadata": {},
   "source": [
    "### Python Libraries and Packages\n",
    "\n",
    "Python employs a lot of libraries and packages for numerous applications\n",
    "such as data science, machine learning, statistics, as well as Web\n",
    "development and desktop application. Libraries are files which contain\n",
    "many functions so that you don't have to programm everything from\n",
    "scratch. For example basic Python does provide the multiplication\n",
    "operator which is applicable for integers and floats but it does not\n",
    "provide a function which performs the dot product between vectors. In\n",
    "order to use a dot product you would either have to programm it yourself\n",
    "or (recommended) find a library which contains this function already.\n",
    "\n",
    "Commonly used libraries for data analysis include: \n",
    "\n",
    "**Pandas:** [Pandas](https://pandas.pydata.org/) is\n",
    "a very important and powerful library for data manipulation in Python.\n",
    "It has a broad range of import and export functions for various data\n",
    "formats such as Comma separated variable (CSV) and text files, Microsoft\n",
    "Excel, SQL databases,etc, as well as indexing and data manipulating\n",
    "capabilities. Pandas also contains well developed methods for data\n",
    "structures such as dataframe, which is a table of columns and rows of\n",
    "data. Pandas mostly used to merge, reshape, split, aggregate and\n",
    "select(sub-setting) data. It is usually customary to import pandas as\n",
    "`pd` inside the python code. \n",
    "\n",
    "[//]: # \"it will not be included Further documentation on Pandas can be\n",
    "found in ref, this was removed from the original script since the ref hypperlink is included in the first line\"\n",
    "\n",
    "\n",
    "**NumPy (Numerical Python):** [NumPy](http://www.numpy.org/) is an efficient\n",
    "library for Numerical operations and data storage in python. It has data\n",
    "structures, algorithms and functions used for handling numerical data in\n",
    "Python.NumPy contains data structures, algorithms and high-level\n",
    "mathematical functions that support large, multi-dimensional arrays and\n",
    "matrices operations.In addition, Numpy is efficient in generating and\n",
    "handling data that are either normally or binomially distributed. NumPy\n",
    "is usually imported as `np`. \n",
    "\n",
    "**Matplotlib:** [Matplotlib](https://matplotlib.org/) is a very powerful library for\n",
    "data visualization in 2D or 3D in Python. The pyplot module in\n",
    "Matplotlib allows for a lot of control over plots such as graphs, bar\n",
    "charts, pie charts, histograms etc. `import matplotlib.pyplot as plt`\n",
    "imports the pyplot module in matplotlib for various forms of data\n",
    "visualization. \n",
    "\n",
    "**SciPy:** The [SciPy](https://www.scipy.org/scipylib/index.html) library contains user-friendly and\n",
    "efficient modules used for linear algebra, optimization, integration,\n",
    "interpolation, FFT, signal and image processing, ODE and PDE solvers and\n",
    "other numerical routines that are common in science and Engineering.\n",
    "\n",
    "Whenever we want to use a function from a library we state the library\n",
    "name, then a dot and then the function name so that Python knows where\n",
    "to look. For example: `numpy.cos()`. It is common to abbreviate the\n",
    "library names to make the code shorter and better readable. This can be\n",
    "achieved by specifying an alternative name which is realised by\n",
    "exptending the import command with as 'alternative name'\n"
   ]
  },
  {
   "cell_type": "markdown",
   "metadata": {},
   "source": [
    "## Script files\n",
    "\n",
    "Until now we typed all the commands directly into the command line. As\n",
    "it would be very tedious to type each command individually into the\n",
    "command line we can store multiple commands in scripts. These scripts\n",
    "can be created using the built-in editor of the programming environment.\n",
    "\n",
    "From the editor element you can run your script file directly by\n",
    "clicking the green 'Play' button.\n",
    "\n",
    "Make sure to save the script and give it a meaningful name. Notice that\n",
    "script files must have the document type ending '.py'.\n",
    "\n",
    "You can also run the script file from the command line. For this type\n",
    "`run [filename]`. However, in order for Python to call a script it must\n",
    "be in a 'visible' folder. That will always be the case if the script\n",
    "file is in the active working directory.\n",
    "\n",
    "> **Example 1.1 - Airmass script** \n",
    "<br>\n",
    "> The intensity of the sun felt on the surface of the earth is influenced\n",
    "by the atmosphere. Depending on the position of the sun relative to your\n",
    "position on earth the solar radiation has to pass more or less distance\n",
    "of the atmosphere.\n",
    "<br>\n",
    "> This is expressed in the quantity called airmass where a value of\n",
    "airmass AM=1 corresponds to the shortest possible distance the solar\n",
    "radiation has to travel when the sun is directly overhead (in the\n",
    "so-called zenith). According to [PVEducation (Air mass)](https://www.pveducation.org/pvcdrom/properties-of-sunlight/air-mass) the airmass\n",
    "factor for angles $\\alpha$ from the zenith is given by\n",
    "> $$AM=\\frac{1}{\\cos(\\alpha)}$$\n",
    "> Let's write a script to calculate the airmass for an angle\n",
    "> $\\alpha=30^{\\circ}$\n",
    "<br>\n",
    "> *01airmassscript.py*"
   ]
  },
  {
   "cell_type": "code",
   "execution_count": 1,
   "metadata": {},
   "outputs": [
    {
     "name": "stdout",
     "output_type": "stream",
     "text": [
      "1.1547005383792515\n"
     ]
    }
   ],
   "source": [
    "import numpy as np \n",
    "  \n",
    "#Parameter\n",
    "AngleFromZenith = 30; #in degrees\n",
    "AngleFromZenith_Rad = np.deg2rad(AngleFromZenith);   #convert from degrees to radians\n",
    "\n",
    "#Calculations\n",
    "AM = 1/np.cos(AngleFromZenith_Rad);\n",
    "print(AM);"
   ]
  },
  {
   "cell_type": "markdown",
   "metadata": {},
   "source": [
    "There is a lot we can learn from this example. In the first line we\n",
    "import the NumPy library which provides us with mathematical functions\n",
    "such as the cosine function and define that we want to abbreviate this\n",
    "library with just 'np'.\n",
    "\n",
    "By default in most programming languages the trigonometric functions are\n",
    "programmed to handle angles in terms of radians and not degrees.\n",
    "Therefore we have to transform our angle in degrees into radians using\n",
    "the deg2rad function from the NumPy library.\n",
    "\n",
    "Finally we perform the calculation and output the result to the command\n",
    "line.\n",
    "\n",
    "## Useful functions to get you started quick\n",
    "\n",
    "Other numeric constructs which are very common in scientific computing\n",
    "are vectors and matrices. Let's start with the vectors.\n",
    "\n",
    "With NumPy you can implement a vector via: `a=np.array([1,2,3])`. With\n",
    "arrays of the **same size** you can perform arithmetic operations which\n",
    "will work elementwise. For example: a+a outputs an array \\[2,4,6\\]"
   ]
  },
  {
   "cell_type": "code",
   "execution_count": 42,
   "metadata": {},
   "outputs": [],
   "source": [
    "a = np.array([1,2,3])"
   ]
  },
  {
   "cell_type": "code",
   "execution_count": 43,
   "metadata": {},
   "outputs": [
    {
     "data": {
      "text/plain": [
       "array([1, 2, 3])"
      ]
     },
     "execution_count": 43,
     "metadata": {},
     "output_type": "execute_result"
    }
   ],
   "source": [
    "a"
   ]
  },
  {
   "cell_type": "code",
   "execution_count": 41,
   "metadata": {},
   "outputs": [
    {
     "data": {
      "text/plain": [
       "array([2, 4, 6])"
      ]
     },
     "execution_count": 41,
     "metadata": {},
     "output_type": "execute_result"
    }
   ],
   "source": [
    "a + a"
   ]
  },
  {
   "cell_type": "markdown",
   "metadata": {},
   "source": [
    "Before we stated that one-dimensional arrays can be imagined as a\n",
    "vector. That is not entirely correct as we often distinguish between row\n",
    "and column vectors which is important for example for dot or matrix\n",
    "products.. These are represented more correctly by a 2-dimensional array\n",
    "where one dimension is equal to 1."
   ]
  },
  {
   "cell_type": "code",
   "execution_count": 44,
   "metadata": {},
   "outputs": [],
   "source": [
    "v = np.r_['r', [1,2,3]]     # shape: (1, 3)"
   ]
  },
  {
   "cell_type": "code",
   "execution_count": 45,
   "metadata": {},
   "outputs": [
    {
     "data": {
      "text/plain": [
       "matrix([[1, 2, 3]])"
      ]
     },
     "execution_count": 45,
     "metadata": {},
     "output_type": "execute_result"
    }
   ],
   "source": [
    "v"
   ]
  },
  {
   "cell_type": "code",
   "execution_count": 46,
   "metadata": {},
   "outputs": [],
   "source": [
    "w = np.r_['c', [4,5,6]]  # shape: (3,1)"
   ]
  },
  {
   "cell_type": "code",
   "execution_count": 47,
   "metadata": {},
   "outputs": [
    {
     "data": {
      "text/plain": [
       "matrix([[4],\n",
       "        [5],\n",
       "        [6]])"
      ]
     },
     "execution_count": 47,
     "metadata": {},
     "output_type": "execute_result"
    }
   ],
   "source": [
    "w"
   ]
  },
  {
   "cell_type": "markdown",
   "metadata": {},
   "source": [
    "To transpose a row vector into a column vector (or vice versa) use the\n",
    "`transpose()` function.\n",
    "\n",
    "In the case you want to address not the complete vector but just one\n",
    "element of it write:"
   ]
  },
  {
   "cell_type": "code",
   "execution_count": 48,
   "metadata": {},
   "outputs": [
    {
     "data": {
      "text/plain": [
       "3"
      ]
     },
     "execution_count": 48,
     "metadata": {},
     "output_type": "execute_result"
    }
   ],
   "source": [
    "a[2]"
   ]
  },
  {
   "cell_type": "markdown",
   "metadata": {},
   "source": [
    "You may be surprised about this result as you may have expected this to\n",
    "output a 2 instead. In most programming languages it is common to start\n",
    "counting with 0 so in this case a\\[0\\]=1,\\... This is called indexing.\n",
    "\n",
    "For matrixes and the special variant of row and column vectors you need\n",
    "to provide 2 indices, one for the row (1st number) and one for the\n",
    "column (2nd number)."
   ]
  },
  {
   "cell_type": "code",
   "execution_count": 49,
   "metadata": {},
   "outputs": [
    {
     "data": {
      "text/plain": [
       "5"
      ]
     },
     "execution_count": 49,
     "metadata": {},
     "output_type": "execute_result"
    }
   ],
   "source": [
    "w[1,0]"
   ]
  },
  {
   "cell_type": "markdown",
   "metadata": {},
   "source": [
    "We can construct matrices as array of arrays (mind that the row arrays\n",
    "are nested within \\[\\]:"
   ]
  },
  {
   "cell_type": "code",
   "execution_count": 50,
   "metadata": {},
   "outputs": [],
   "source": [
    "C=np.array([[1,2,3],[4,5,6]])"
   ]
  },
  {
   "cell_type": "code",
   "execution_count": 51,
   "metadata": {},
   "outputs": [
    {
     "data": {
      "text/plain": [
       "array([[1, 2, 3],\n",
       "       [4, 5, 6]])"
      ]
     },
     "execution_count": 51,
     "metadata": {},
     "output_type": "execute_result"
    }
   ],
   "source": [
    "C"
   ]
  },
  {
   "cell_type": "code",
   "execution_count": 52,
   "metadata": {},
   "outputs": [
    {
     "data": {
      "text/plain": [
       "numpy.ndarray"
      ]
     },
     "execution_count": 52,
     "metadata": {},
     "output_type": "execute_result"
    }
   ],
   "source": [
    "type(C)"
   ]
  },
  {
   "cell_type": "markdown",
   "metadata": {},
   "source": [
    "As mentioned before you can perform element wise operations using the\n",
    "regular arithmetic operators"
   ]
  },
  {
   "cell_type": "code",
   "execution_count": 29,
   "metadata": {},
   "outputs": [],
   "source": [
    "A=np.array([[1,2],[3,4]])\n",
    "B=np.array([[5,6],[7,8]])"
   ]
  },
  {
   "cell_type": "code",
   "execution_count": 5,
   "metadata": {},
   "outputs": [
    {
     "name": "stdout",
     "output_type": "stream",
     "text": [
      "[[1 2]\n",
      " [3 4]]\n"
     ]
    }
   ],
   "source": [
    "print(A)"
   ]
  },
  {
   "cell_type": "code",
   "execution_count": 6,
   "metadata": {},
   "outputs": [
    {
     "name": "stdout",
     "output_type": "stream",
     "text": [
      "[[5 6]\n",
      " [7 8]]\n"
     ]
    }
   ],
   "source": [
    "print(B)"
   ]
  },
  {
   "cell_type": "code",
   "execution_count": 30,
   "metadata": {},
   "outputs": [
    {
     "name": "stdout",
     "output_type": "stream",
     "text": [
      "[[ 6  8]\n",
      " [10 12]]\n"
     ]
    }
   ],
   "source": [
    "print(A+B)"
   ]
  },
  {
   "cell_type": "code",
   "execution_count": 58,
   "metadata": {},
   "outputs": [
    {
     "name": "stdout",
     "output_type": "stream",
     "text": [
      "[[ 5 12]\n",
      " [21 32]]\n"
     ]
    }
   ],
   "source": [
    "print(A*B)"
   ]
  },
  {
   "cell_type": "markdown",
   "metadata": {},
   "source": [
    "In the case you want to add a scalar value to all elements you can use\n",
    "special operators such as `+=` or for multiplication `*=`."
   ]
  },
  {
   "cell_type": "code",
   "execution_count": 31,
   "metadata": {},
   "outputs": [],
   "source": [
    "A+=5"
   ]
  },
  {
   "cell_type": "code",
   "execution_count": 32,
   "metadata": {},
   "outputs": [
    {
     "name": "stdout",
     "output_type": "stream",
     "text": [
      "[[6 7]\n",
      " [8 9]]\n"
     ]
    }
   ],
   "source": [
    "print(A)"
   ]
  },
  {
   "cell_type": "markdown",
   "metadata": {},
   "source": [
    "To perform a 'proper' matrix multiplication (not elementwise), dot product and cross multiplication can be done using the np.dot and np.cross functions respectively."
   ]
  },
  {
   "cell_type": "code",
   "execution_count": 35,
   "metadata": {},
   "outputs": [
    {
     "name": "stdout",
     "output_type": "stream",
     "text": [
      "[[ 79  92]\n",
      " [103 120]]\n"
     ]
    }
   ],
   "source": [
    "print(np.dot(A,B))"
   ]
  },
  {
   "cell_type": "code",
   "execution_count": 20,
   "metadata": {},
   "outputs": [
    {
     "name": "stdout",
     "output_type": "stream",
     "text": [
      "[[ 2  1 -3]]\n"
     ]
    }
   ],
   "source": [
    "C = np.array([[2,1,-3]])\n",
    "print(C)"
   ]
  },
  {
   "cell_type": "code",
   "execution_count": 25,
   "metadata": {},
   "outputs": [
    {
     "data": {
      "text/plain": [
       "(1, 3)"
      ]
     },
     "execution_count": 25,
     "metadata": {},
     "output_type": "execute_result"
    }
   ],
   "source": [
    "np.shape(C) #check that array shape is correct"
   ]
  },
  {
   "cell_type": "code",
   "execution_count": 22,
   "metadata": {},
   "outputs": [
    {
     "name": "stdout",
     "output_type": "stream",
     "text": [
      "[[0 4 5]]\n"
     ]
    }
   ],
   "source": [
    "D = np.array([[0,4,5]])\n",
    "print(D)"
   ]
  },
  {
   "cell_type": "code",
   "execution_count": 23,
   "metadata": {},
   "outputs": [
    {
     "name": "stdout",
     "output_type": "stream",
     "text": [
      "[[ 17 -10   8]]\n"
     ]
    }
   ],
   "source": [
    "print(np.cross(C,D))"
   ]
  },
  {
   "cell_type": "markdown",
   "metadata": {},
   "source": [
    "Of course there exist many more functions for matrices and vectors but\n",
    "this shall be enough to get you started. Always remember, if you are\n",
    "looking for something but don't know if there exists a function for it\n",
    "first google it and use the documentation."
   ]
  },
  {
   "cell_type": "markdown",
   "metadata": {},
   "source": [
    "### Debugging: Getting rid of errors in Python\n",
    "\n",
    "Many types of errors such as SyntaxError, ImportError, IndexError,\n",
    "KeyError, RuntimeError, UnicodeEncodeError etc. can occur during code\n",
    "execution. Python documentation on errors can be found [here](https://docs.python.org/3.4/library/exceptions.html). A\n",
    "common approach to resolving python errors is to copy and paste the\n",
    "error message on Google, as [StackOverflow](https://stackoverflow.com/) provides a large\n",
    "community of Programmers who have probably encountered a similar error\n",
    "in the past (highly recommended!).\n",
    "\n",
    "Try to understand what is happening in the following example. In the\n",
    "following chapter we will built upon this. Feel free to play around with\n",
    "it for different results.\n",
    "\n",
    "> **Example 1.2 - Sun Postion**\n",
    "<br>\n",
    "The sun is the original power source of many renewable energies. In\n",
    "order to describe our energy resource it is therefore often necessary to\n",
    "determine the position of the sun.\n",
    "<br>\n",
    "The apparent position of the sun can be given by two angles, the\n",
    "elevation and the azimuth. [PVEducation (Sun position)](https://www.pveducation.org/pvcdrom/properties-of-sunlight/the-suns-position) details how\n",
    "to calculate these two angles as a function of time and gives the\n",
    "following equations. $$\\begin{aligned}\n",
    "    LSTM&=15^{\\circ} \\times \\Delta T_{GMT} \\\\\n",
    "    B&=\\frac{360}{365}(d-81) \\\\\n",
    "    EoT&=9.87\\sin(2B)-7.53\\cos(B)-1.5\\sin(B) \\\\\n",
    "    TC&=4(\\lambda-LSTM)+EoT\\\\\n",
    "    LST&=LT+\\frac{TC}{60}\\\\\n",
    "    HRA&=15^{\\circ} (LST-12)\\\\\n",
    "    \\text{Declination } \\delta&=\\sin^{-1} \\left( \\sin (23.45^{\\circ} ) \\sin \\left(   \\frac{360}{365}(d-81) \\right)\\right)\\\\\n",
    "    \\text{Elevation } \\alpha&=\\sin^{-1} \\left( \\sin \\delta \\sin \\varphi + \\cos \\delta \\cos \\varphi \\cos(HRA)  \\right)\\\\\n",
    "    \\text{Azimuth } \\psi &=\\cos^{-1} \\left( \\frac{\\sin \\delta \\cos \\varphi - \\cos \\delta \\sin \\varphi \\cos(HRA) }{\\cos \\alpha} \\right)\\\\\\end{aligned}$$\n",
    "    <br>\n",
    "These equations shall be implemented in Python for the specific set of\n",
    "parameters: $$\\begin{aligned}\n",
    "    LT&=15:30\\\\ \n",
    "    d&=309 \\text{ (Nov 5th)}\\\\\n",
    "    \\Delta T_{GMT}&=+2 \\text{ (CET)}\\\\\n",
    "    \\text{Longitude } \\lambda&=8.213889\\\\\n",
    "    \\text{Latitude } \\varphi&=53.143889\\\\\\end{aligned}$$\n",
    "<br>\n",
    "*02sunposscript.py*"
   ]
  },
  {
   "cell_type": "code",
   "execution_count": 1,
   "metadata": {},
   "outputs": [
    {
     "name": "stdout",
     "output_type": "stream",
     "text": [
      "Elevation =  14.368815733077886\n",
      "Azimuth =  145.58679224984695\n"
     ]
    }
   ],
   "source": [
    "import numpy as np\n",
    "\n",
    "#Initial Parameters\n",
    "DayOfYear=309 #Nov 5th in the year 2015\n",
    "TimeZone=+2 #Difference to Greenwich Mean Time GMT\n",
    "SummerTime=0 #1=TRUE, 0=FALSE\n",
    "Longitude=8.213889  #Oldenburg (in degrees)\n",
    "Latitude=53.143889 #Oldenburg (in degrees)\n",
    "EarthTilt=23.45 #degrees\n",
    "\n",
    "#Translate degree values into radians\n",
    "Long_rad=np.deg2rad(Longitude)  \n",
    "Lat_rad=np.deg2rad(Latitude) \n",
    "Tilt_rad=np.deg2rad(EarthTilt) \n",
    "\n",
    "LT=15.5 #afternoon would correspond to 3:30 pm\n",
    "LSTM=15*(TimeZone+SummerTime)\n",
    "B=(360/365)*(DayOfYear-81) #Postition on the orbit (angle)\n",
    "EoT = 9.87*np.sin(np.deg2rad(2*B))-7.53*np.cos(np.deg2rad(B))-1.5*np.sin(np.deg2rad(B)) #minutes\n",
    "TC=4*(Longitude-LSTM)+EoT #in minutes\n",
    "LST=LT+TC/60\n",
    "HRA=15*(LST-12) #Hour angle, 0 at noon\n",
    "\n",
    "Declination_rad = np.arcsin(np.sin(Tilt_rad)*np.sin(np.deg2rad(B)))\n",
    "Elevation = np.rad2deg(np.arcsin( np.sin(Declination_rad)*np.sin(Lat_rad)+np.cos(Declination_rad)*np.cos(Lat_rad) *np.cos(np.deg2rad(HRA)) ))\n",
    "\n",
    "Azimuth = np.rad2deg(np.arccos( ( np.sin(Declination_rad)*np.cos(Lat_rad)-np.cos(Declination_rad)*np.sin(Lat_rad) *np.cos(np.deg2rad(HRA)) )/np.cos(np.deg2rad(Elevation)) ))\n",
    "\n",
    "print('Elevation = ', Elevation)\n",
    "print('Azimuth = ', Azimuth)"
   ]
  }
 ],
 "metadata": {
  "kernelspec": {
   "display_name": "Python 3",
   "language": "python",
   "name": "python3"
  },
  "language_info": {
   "codemirror_mode": {
    "name": "ipython",
    "version": 3
   },
   "file_extension": ".py",
   "mimetype": "text/x-python",
   "name": "python",
   "nbconvert_exporter": "python",
   "pygments_lexer": "ipython3",
   "version": "3.8.3"
  }
 },
 "nbformat": 4,
 "nbformat_minor": 4
}
