{
 "cells": [
  {
   "cell_type": "markdown",
   "metadata": {},
   "source": [
    "# Exercise 2 Notebook\n",
    "After reading Chapter [3](03_modelling.ipynb) and understanding the given examples, you can try solving the below exercises. Steps to solution are given to facilitate how you go through the problems. However, feel free to use your own logic and go through the problems yourself if you want to."
   ]
  },
  {
   "cell_type": "markdown",
   "metadata": {},
   "source": [
    "## **Exercise 2.1 — Linear fitting**\n",
    "<br>\n",
    "This exercise extends Exercise 1.2 from the Mathematics primer. It is helpful to complete the\n",
    "Math exercise first.\n",
    "In the file ’meteo82d.dat’ we can find the average wind speed for the given time periods in\n",
    "column 15.\n",
    "Read this data and create a normalized wind speed distribution (bins 0-1, 1-2 ,…m/s). This\n",
    "distribution is commonly modelled with the Weibull-distribution:\n",
    "$$ f(u) = \\frac{k}{A} \\cdot (\\frac{u}{A})^{k-1} \\cdot e^{{-(\\frac{u}{A})^k}}$$\n",
    "The result of Exercise 1.2 from the Mathematics primer is a linear function with which it\n",
    "should be possible to find the two Weibull parameters A and k via a linear fit.\n",
    "Perform the necessary calculations and using a linear fit determine the Weibull parameters.\n",
    "Finally plot your modelled Weibull distribution with the measurement data to get an idea\n",
    "about the fit quality\n",
    "HINT: It becomes necessary to assign a numerical value to a bin. It is reasonable use its\n",
    "center value, e.g: bin 1-2  1.5"
   ]
  },
  {
   "cell_type": "code",
   "execution_count": 1,
   "metadata": {},
   "outputs": [],
   "source": [
    "import pandas as pd"
   ]
  },
  {
   "cell_type": "code",
   "execution_count": 105,
   "metadata": {},
   "outputs": [],
   "source": [
    "import matplotlib.pyplot as plt\n",
    "import numpy as np"
   ]
  },
  {
   "cell_type": "code",
   "execution_count": 78,
   "metadata": {},
   "outputs": [],
   "source": [
    "import scipy.optimize as scipy_opt"
   ]
  },
  {
   "cell_type": "code",
   "execution_count": 3,
   "metadata": {},
   "outputs": [],
   "source": [
    "meteo82 = pd.read_csv('meteo82d.dat', delimiter = '\\t', header = None)"
   ]
  },
  {
   "cell_type": "code",
   "execution_count": null,
   "metadata": {},
   "outputs": [],
   "source": []
  },
  {
   "cell_type": "code",
   "execution_count": 4,
   "metadata": {},
   "outputs": [],
   "source": [
    "u_avg = meteo82.iloc[:,14]"
   ]
  },
  {
   "cell_type": "code",
   "execution_count": 5,
   "metadata": {},
   "outputs": [
    {
     "data": {
      "text/plain": [
       "0.0"
      ]
     },
     "execution_count": 5,
     "metadata": {},
     "output_type": "execute_result"
    }
   ],
   "source": [
    "np.min(u_avg)"
   ]
  },
  {
   "cell_type": "code",
   "execution_count": null,
   "metadata": {},
   "outputs": [],
   "source": []
  },
  {
   "cell_type": "code",
   "execution_count": 6,
   "metadata": {},
   "outputs": [],
   "source": [
    "#u_avg = np.concatenate((np.repeat(1,1), np.repeat(2,2), th,fr, np.repeat(5,9), np.repeat(6,11), np.repeat(7,11), np.repeat(8,11), np.repeat(9,9), np.repeat(10,8), np.repeat(11,6), np.repeat(12,6), np.repeat(13,5), np.repeat(14,3), np.repeat(15,2), np.repeat(16,2), np.repeat(17,1), np.repeat(18,1)))"
   ]
  },
  {
   "cell_type": "code",
   "execution_count": 96,
   "metadata": {},
   "outputs": [
    {
     "data": {
      "image/png": "[encoded data removed]",
      "text/plain": [
       "<Figure size 432x288 with 1 Axes>"
      ]
     },
     "metadata": {
      "needs_background": "light"
     },
     "output_type": "display_data"
    }
   ],
   "source": [
    "hyn, hxn, hpn = plt.hist(u_avg, bins=17, density=True)"
   ]
  },
  {
   "cell_type": "code",
   "execution_count": 97,
   "metadata": {},
   "outputs": [
    {
     "data": {
      "image/png": "[encoded data removed]",
      "text/plain": [
       "<Figure size 432x288 with 1 Axes>"
      ]
     },
     "metadata": {
      "needs_background": "light"
     },
     "output_type": "display_data"
    }
   ],
   "source": [
    "hy, hx, hp = plt.hist(u_avg, bins=17)"
   ]
  },
  {
   "cell_type": "code",
   "execution_count": 8,
   "metadata": {},
   "outputs": [
    {
     "data": {
      "image/png": "[encoded data removed]",
      "text/plain": [
       "<Figure size 432x288 with 1 Axes>"
      ]
     },
     "metadata": {
      "needs_background": "light"
     },
     "output_type": "display_data"
    }
   ],
   "source": [
    "cx, cb, cp = plt.hist(u_avg, bins=19, density = True, cumulative=True)"
   ]
  },
  {
   "cell_type": "code",
   "execution_count": 83,
   "metadata": {},
   "outputs": [
    {
     "data": {
      "text/plain": [
       "array([ 0.        ,  1.01176471,  2.02352941,  3.03529412,  4.04705882,\n",
       "        5.05882353,  6.07058824,  7.08235294,  8.09411765,  9.10588235,\n",
       "       10.11764706, 11.12941176, 12.14117647, 13.15294118, 14.16470588,\n",
       "       15.17647059, 16.18823529, 17.2       ])"
      ]
     },
     "execution_count": 83,
     "metadata": {},
     "output_type": "execute_result"
    }
   ],
   "source": [
    "hx"
   ]
  },
  {
   "cell_type": "code",
   "execution_count": 99,
   "metadata": {},
   "outputs": [],
   "source": [
    "midhx = (hx[1:] + hx[:-1]) / 2\n",
    "midhxn = (hx[1:] + hx[:-1]) / 2"
   ]
  },
  {
   "cell_type": "code",
   "execution_count": 85,
   "metadata": {},
   "outputs": [
    {
     "data": {
      "text/plain": [
       "array([5.05468833e-02, 1.60554051e-01, 2.04669746e-01, 1.91356058e-01,\n",
       "       1.45773601e-01, 8.75544229e-02, 6.70197515e-02, 3.70075396e-02,\n",
       "       2.29040565e-02, 1.02673357e-02, 6.31836041e-03, 2.59504088e-03,\n",
       "       9.02622916e-04, 4.51311458e-04, 1.12827865e-04, 2.25655729e-04,\n",
       "       1.12827865e-04])"
      ]
     },
     "execution_count": 85,
     "metadata": {},
     "output_type": "execute_result"
    }
   ],
   "source": [
    "hy"
   ]
  },
  {
   "cell_type": "code",
   "execution_count": 100,
   "metadata": {},
   "outputs": [
    {
     "data": {
      "text/plain": [
       "(array([5.05468833e-02, 1.60554051e-01, 2.04669746e-01, 1.91356058e-01,\n",
       "        1.45773601e-01, 8.75544229e-02, 6.70197515e-02, 3.70075396e-02,\n",
       "        2.29040565e-02, 1.02673357e-02, 6.31836041e-03, 2.59504088e-03,\n",
       "        9.02622916e-04, 4.51311458e-04, 1.12827865e-04, 2.25655729e-04,\n",
       "        1.12827865e-04]),\n",
       " array([ 0.        ,  1.01176471,  2.02352941,  3.03529412,  4.04705882,\n",
       "         5.05882353,  6.07058824,  7.08235294,  8.09411765,  9.10588235,\n",
       "        10.11764706, 11.12941176, 12.14117647, 13.15294118, 14.16470588,\n",
       "        15.17647059, 16.18823529, 17.2       ]),\n",
       " <a list of 17 Patch objects>)"
      ]
     },
     "execution_count": 100,
     "metadata": {},
     "output_type": "execute_result"
    },
    {
     "data": {
      "image/png": "[encoded data removed]",
      "text/plain": [
       "<Figure size 432x288 with 1 Axes>"
      ]
     },
     "metadata": {
      "needs_background": "light"
     },
     "output_type": "display_data"
    }
   ],
   "source": [
    "#y = np.log(np.log(1/(1 - hx[1:18])))\n",
    "u = np.linspace(1,17.2,17)\n",
    "#x = np.log(u)\n",
    "plt.plot(midhxn, hyn)\n",
    "plt.hist(u_avg, bins=17, density=True)"
   ]
  },
  {
   "cell_type": "code",
   "execution_count": 89,
   "metadata": {},
   "outputs": [
    {
     "name": "stdout",
     "output_type": "stream",
     "text": [
      "[ 0.50588235  1.51764706  2.52941176  3.54117647  4.55294118  5.56470588\n",
      "  6.57647059  7.58823529  8.6         9.61176471 10.62352941 11.63529412\n",
      " 12.64705882 13.65882353 14.67058824 15.68235294 16.69411765]\n"
     ]
    }
   ],
   "source": [
    "print(midhx)"
   ]
  },
  {
   "cell_type": "code",
   "execution_count": 90,
   "metadata": {},
   "outputs": [
    {
     "name": "stdout",
     "output_type": "stream",
     "text": [
      "[5.05468833e-02 1.60554051e-01 2.04669746e-01 1.91356058e-01\n",
      " 1.45773601e-01 8.75544229e-02 6.70197515e-02 3.70075396e-02\n",
      " 2.29040565e-02 1.02673357e-02 6.31836041e-03 2.59504088e-03\n",
      " 9.02622916e-04 4.51311458e-04 1.12827865e-04 2.25655729e-04\n",
      " 1.12827865e-04]\n"
     ]
    }
   ],
   "source": [
    "print(hy)"
   ]
  },
  {
   "cell_type": "code",
   "execution_count": 104,
   "metadata": {},
   "outputs": [
    {
     "name": "stdout",
     "output_type": "stream",
     "text": [
      "[1.92630426 4.13531315]\n"
     ]
    },
    {
     "data": {
      "text/plain": [
       "(array([5.05468833e-02, 1.60554051e-01, 2.04669746e-01, 1.91356058e-01,\n",
       "        1.45773601e-01, 8.75544229e-02, 6.70197515e-02, 3.70075396e-02,\n",
       "        2.29040565e-02, 1.02673357e-02, 6.31836041e-03, 2.59504088e-03,\n",
       "        9.02622916e-04, 4.51311458e-04, 1.12827865e-04, 2.25655729e-04,\n",
       "        1.12827865e-04]),\n",
       " array([ 0.        ,  1.01176471,  2.02352941,  3.03529412,  4.04705882,\n",
       "         5.05882353,  6.07058824,  7.08235294,  8.09411765,  9.10588235,\n",
       "        10.11764706, 11.12941176, 12.14117647, 13.15294118, 14.16470588,\n",
       "        15.17647059, 16.18823529, 17.2       ]),\n",
       " <a list of 17 Patch objects>)"
      ]
     },
     "execution_count": 104,
     "metadata": {},
     "output_type": "execute_result"
    },
    {
     "data": {
      "image/png": "[encoded data removed]",
      "text/plain": [
       "<Figure size 432x288 with 1 Axes>"
      ]
     },
     "metadata": {
      "needs_background": "light"
     },
     "output_type": "display_data"
    }
   ],
   "source": [
    "def windfunc(x, k, A):\n",
    "    return (k/A)*((x/A)**(k-1))*np.exp(-(x/A)**k)\n",
    "\n",
    "popt, pcov = scipy_opt.curve_fit(windfunc, midhxn, hyn, p0 = np.array([2,5])) \n",
    "print(popt)\n",
    "xi = np.linspace(0,18,100) #x-axis points at which to evaluate polynomial for graph\n",
    "fit_y= windfunc(xi, popt[0], popt[1]) #Takes coefficients and calculates values at specified points\n",
    "\n",
    "#Show results as figure\n",
    "fig, ax = plt.subplots()\n",
    "ax.plot(midhxn, hyn, \"o\", xi, fit_y, \"-\") \n",
    "plt.legend([\"data\", \"non-linfit\"], loc=\"best\")\n",
    "ax.set(xlabel=\"Voltage\", ylabel=\"Current\")\n",
    "#ax.set(xlim=(0, 22.05), ylim=(-0.5, 4))\n",
    "plt.hist(u_avg, bins=17, density=True)"
   ]
  },
  {
   "cell_type": "code",
   "execution_count": null,
   "metadata": {},
   "outputs": [],
   "source": []
  },
  {
   "cell_type": "code",
   "execution_count": 13,
   "metadata": {},
   "outputs": [
    {
     "ename": "NameError",
     "evalue": "name 'x' is not defined",
     "output_type": "error",
     "traceback": [
      "\u001b[1;31m---------------------------------------------------------------------------\u001b[0m",
      "\u001b[1;31mNameError\u001b[0m                                 Traceback (most recent call last)",
      "\u001b[1;32m<ipython-input-13-1ff3d77c34f5>\u001b[0m in \u001b[0;36m<module>\u001b[1;34m\u001b[0m\n\u001b[0;32m      1\u001b[0m \u001b[0mn\u001b[0m \u001b[1;33m=\u001b[0m \u001b[1;36m1\u001b[0m \u001b[1;31m#Degree of polynomial\u001b[0m\u001b[1;33m\u001b[0m\u001b[1;33m\u001b[0m\u001b[0m\n\u001b[0;32m      2\u001b[0m \u001b[1;33m\u001b[0m\u001b[0m\n\u001b[1;32m----> 3\u001b[1;33m \u001b[0mp\u001b[0m \u001b[1;33m=\u001b[0m \u001b[0mnp\u001b[0m\u001b[1;33m.\u001b[0m\u001b[0mpolyfit\u001b[0m\u001b[1;33m(\u001b[0m\u001b[0mx\u001b[0m\u001b[1;33m,\u001b[0m \u001b[0my\u001b[0m\u001b[1;33m,\u001b[0m \u001b[0mn\u001b[0m\u001b[1;33m)\u001b[0m\u001b[1;33m\u001b[0m\u001b[1;33m\u001b[0m\u001b[0m\n\u001b[0m\u001b[0;32m      4\u001b[0m \u001b[0mprint\u001b[0m\u001b[1;33m(\u001b[0m\u001b[0mp\u001b[0m\u001b[1;33m)\u001b[0m\u001b[1;33m\u001b[0m\u001b[1;33m\u001b[0m\u001b[0m\n\u001b[0;32m      5\u001b[0m \u001b[1;33m\u001b[0m\u001b[0m\n",
      "\u001b[1;31mNameError\u001b[0m: name 'x' is not defined"
     ]
    }
   ],
   "source": [
    "n = 1 #Degree of polynomial\n",
    "\n",
    "p = np.polyfit(x, y, n) \n",
    "print(p)\n",
    "\n",
    "Ti = np.linspace(, 3.5, 100)\n",
    "fit_y = np.polyval(p, Ti) #Takes coefficients and calculates values at specified points\n",
    "\n",
    "#Show results as figure \n",
    "fig, ax = plt.subplots() \n",
    "ax.plot(x, y, \"o\", Ti, fit_y, \"-\") \n",
    "plt.legend([\"data\", \"polyfit\"], loc=\"best\")"
   ]
  },
  {
   "cell_type": "code",
   "execution_count": null,
   "metadata": {},
   "outputs": [],
   "source": [
    "k = p[0]\n",
    "A = float(np.exp(-p[1]/[p[0]]))"
   ]
  },
  {
   "cell_type": "code",
   "execution_count": null,
   "metadata": {},
   "outputs": [],
   "source": [
    "k"
   ]
  },
  {
   "cell_type": "code",
   "execution_count": null,
   "metadata": {},
   "outputs": [],
   "source": [
    "A"
   ]
  },
  {
   "cell_type": "code",
   "execution_count": null,
   "metadata": {},
   "outputs": [],
   "source": [
    "f = (k/A)*((u/A)**(k-1))*np.exp(-(u/A)**k)"
   ]
  },
  {
   "cell_type": "code",
   "execution_count": null,
   "metadata": {},
   "outputs": [],
   "source": [
    "f"
   ]
  },
  {
   "cell_type": "code",
   "execution_count": null,
   "metadata": {},
   "outputs": [],
   "source": [
    "plt.plot(u,f)\n",
    "plt.hist(u_avg, bins=18, density=True)"
   ]
  },
  {
   "cell_type": "code",
   "execution_count": null,
   "metadata": {},
   "outputs": [],
   "source": []
  },
  {
   "cell_type": "code",
   "execution_count": null,
   "metadata": {},
   "outputs": [],
   "source": []
  }
 ],
 "metadata": {
  "kernelspec": {
   "display_name": "Python 3",
   "language": "python",
   "name": "python3"
  },
  "language_info": {
   "codemirror_mode": {
    "name": "ipython",
    "version": 3
   },
   "file_extension": ".py",
   "mimetype": "text/x-python",
   "name": "python",
   "nbconvert_exporter": "python",
   "pygments_lexer": "ipython3",
   "version": "3.8.3"
  }
 },
 "nbformat": 4,
 "nbformat_minor": 4
}
