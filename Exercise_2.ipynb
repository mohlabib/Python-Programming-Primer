{
 "cells": [
  {
   "cell_type": "markdown",
   "metadata": {},
   "source": [
    "# Exercise 2 Notebook\n",
    "After reading [Chapter 3](03_modelling.ipynb) and understanding the given examples, you can try solving the below exercises. Steps to solution are given to facilitate how you go through the exercise. However, feel free to use your own logic and go through the exercise yourself if you want to."
   ]
  },
  {
   "cell_type": "markdown",
   "metadata": {},
   "source": [
    "## **Exercise 2.1 — Linear fitting**\n",
    "<br>\n",
    "In the file 'meteo82d.dat' we can find the average wind speed for the given time periods in\n",
    "column 15.\n",
    "Read this data and create a normalized wind speed distribution (bins 0-1, 1-2 ,…m/s). This\n",
    "distribution is commonly modelled with the Weibull-distribution:\n",
    "$$ f(u) = \\frac{k}{A} \\cdot (\\frac{u}{A})^{k-1} \\cdot e^{{-(\\frac{u}{A})^k}}$$\n",
    "where $u$ is the wind speed in ms$^{-1}$.\n",
    "\n",
    "\n",
    "> Hint: Double click the equation to zoom in (in case you're using JupyterLab)."
   ]
  },
  {
   "cell_type": "markdown",
   "metadata": {},
   "source": [
    "In order to find the two Weibull parameters $A$ and $k$ we need to use the fitting techniques we have learned. One approach is linearization. The trick is to perform a fit not on the histogram but actually on its integral (compare \"Cumulative Distribution Function\"), which you can calculate easily from the measurement data. The resultant cumulative distribution is modelled using the equation: $$F(u) = 1 - e^{-(\\frac{u}{A})^k}$$\n",
    "Obviously this is not a linear function, yet by applying two mathematical manipulations we can transform this into a linearized form. This is detailed [here](http://reliawiki.org/index.php/Parameter_Estimation) (notice that they use different symbols but the function is essentially the same)."
   ]
  },
  {
   "cell_type": "markdown",
   "metadata": {},
   "source": [
    "The resultant linear function is shown below: $$\\ln \\left({\\ln\\left({\\frac{1}{1-F(u)}}\\right)} \\right) = k \\cdot \\ln(u) - k \\cdot \\ln(A)$$ "
   ]
  },
  {
   "cell_type": "markdown",
   "metadata": {},
   "source": [
    "With this, perform a linear fit and determine from the slope and offset the Weibull parameters. Finally plot your modelled Weibull distribution with the measurement data to get an idea about the fit quality\n",
    "> Hint: If it becomes necessary to assign a numerical value to a bin. It is reasonable to use its center value, e.g: bin 1-2 $\\rightarrow$ 1.5\n",
    "\n",
    "**All plots shall contain x and y axes labels, title, and a legend if necessary.**"
   ]
  },
  {
   "cell_type": "markdown",
   "metadata": {},
   "source": [
    "### Steps to solution"
   ]
  },
  {
   "cell_type": "markdown",
   "metadata": {},
   "source": [
    "1. Import the necessary libraries."
   ]
  },
  {
   "cell_type": "code",
   "execution_count": null,
   "metadata": {},
   "outputs": [],
   "source": []
  },
  {
   "cell_type": "markdown",
   "metadata": {},
   "source": [
    "2. Read the data from the 'meteo82d.dat' file and store it in a variable `meteo82`. If you will call the file directly, using only its name (refer to **Example 3.1**) make sure it is located in the same path as this notebook."
   ]
  },
  {
   "cell_type": "code",
   "execution_count": null,
   "metadata": {},
   "outputs": [],
   "source": []
  },
  {
   "cell_type": "markdown",
   "metadata": {},
   "source": [
    "3. Store the all the values in column 15 in `meteo82` in a variable `u_avg`."
   ]
  },
  {
   "cell_type": "code",
   "execution_count": null,
   "metadata": {},
   "outputs": [],
   "source": []
  },
  {
   "cell_type": "markdown",
   "metadata": {},
   "source": [
    "4. Plotting a histogram for the Weibull distribution using `matplotlib.pyplot.hist()`:\n",
    "    - In order to have bins of approximately 1 ms$^{-1}$ size. The parameter `bins` (check [documentation](https://matplotlib.org/stable/api/_as_gen/matplotlib.pyplot.hist.html)) shall be equal to the integer from the subtraction of maximum and minimum values of `u_avg`. \n",
    "    - From the documentation, check which parameter shall return a **probability density** and apply it.\n",
    "    - Check the *Returns* section and assign the variables `hy`, `hx` and `hp` (in that order) to the return values."
   ]
  },
  {
   "cell_type": "markdown",
   "metadata": {},
   "source": [
    "💡> <font color=red> Make sure to undersatnd what the variables `hy` and `hx` represent. </font>"
   ]
  },
  {
   "cell_type": "code",
   "execution_count": null,
   "metadata": {},
   "outputs": [],
   "source": []
  },
  {
   "cell_type": "markdown",
   "metadata": {},
   "source": [
    "5. Plot and use the return values from the CDF using `matplotlib.pyplot.hist()`. Use the same parameters used in the last step. Moreover, apply the following two points (check the function's documentation):\n",
    "    - Check which parameter can return the **cumulative distribution** and apply it.\n",
    "    - Check the *Returns* section and assign the variables `cy`, `cx` and `cp` (in that order) to the return values."
   ]
  },
  {
   "cell_type": "code",
   "execution_count": null,
   "metadata": {},
   "outputs": [],
   "source": []
  },
  {
   "cell_type": "markdown",
   "metadata": {},
   "source": [
    "6. Create a `for` loop to create an array with values of the bins mid-points (e.g: bin 1-2 $\\rightarrow$ 1.5). Store the resultant array in variable `midcx`."
   ]
  },
  {
   "cell_type": "code",
   "execution_count": null,
   "metadata": {},
   "outputs": [],
   "source": []
  },
  {
   "cell_type": "markdown",
   "metadata": {},
   "source": [
    "7. Draw a line plot for the CDF using `midcx` and `cy` for the x and y axes respectively."
   ]
  },
  {
   "cell_type": "code",
   "execution_count": null,
   "metadata": {},
   "outputs": [],
   "source": []
  },
  {
   "cell_type": "markdown",
   "metadata": {},
   "source": [
    "The resultant line plot from step 7 can be modelled using the function: $F(u) = 1 - e^{-(\\frac{u}{A})^k}$. Using the linearization approach as discussed earlier, the function obtained is: $\\ln \\left({\\ln\\left({\\frac{1}{1-F(u)}}\\right)} \\right) = k \\cdot \\ln(u) - k \\cdot \\ln(A)$. In this case, a linear fit can be used to determine the values of $A$ and $k$. \n",
    "\n",
    "💡> <font color=red> What variables in your code correspond to the values of $F(u)$ and $u$? </font>"
   ]
  },
  {
   "cell_type": "markdown",
   "metadata": {},
   "source": [
    "8. Using the equation of line: $y = mx + c$. Assign the respective values of $y$ and $x$ in the function $\\ln \\left({\\ln\\left({\\frac{1}{1-F(u)}}\\right)} \\right) = k \\cdot \\ln(u) - k \\cdot \\ln(A)$ to variables `yLine` and `xLine`. You will need to exclude any element with a value of 1 for calculation in the `np.log()` function."
   ]
  },
  {
   "cell_type": "code",
   "execution_count": null,
   "metadata": {},
   "outputs": [],
   "source": []
  },
  {
   "cell_type": "markdown",
   "metadata": {},
   "source": [
    "9. Using `xLine` and `yLine`, perform a linear fit and plot the data and fitting line. Refer to **Example 3.2** for support (use same variables names when possible)."
   ]
  },
  {
   "cell_type": "code",
   "execution_count": null,
   "metadata": {},
   "outputs": [],
   "source": []
  },
  {
   "cell_type": "markdown",
   "metadata": {},
   "source": [
    "💡> <font color=red> What do the values in `p` represent? Compare to the equation of line.</font>"
   ]
  },
  {
   "cell_type": "markdown",
   "metadata": {},
   "source": [
    "10. Comparing the linearization equation $\\ln \\left({\\ln\\left({\\frac{1}{1-F(u)}}\\right)} \\right) = k \\cdot \\ln(u) - k \\cdot \\ln(A)$ to the equation of line again, you shall recognize that $k$ is the slope $m$ and $A$ is equal to $e^{(-\\frac{b}{k})}$. Assign the values of $k$ and $A$ to variables `kLine` and `ALine`. "
   ]
  },
  {
   "cell_type": "code",
   "execution_count": null,
   "metadata": {},
   "outputs": [],
   "source": []
  },
  {
   "cell_type": "markdown",
   "metadata": {},
   "source": [
    "Finally, we have now the values for the Weibull distribution function parameters $k$ and $A$. Now you need to plot the Weibull distribution function: $ f(u) = \\frac{k}{A} \\cdot (\\frac{u}{A})^{k-1} \\cdot e^{{-(\\frac{u}{A})^k}}$ using the parameters you obtained and the `midcx` variable as $u$ and compare it to the histogram in step 4."
   ]
  },
  {
   "cell_type": "markdown",
   "metadata": {},
   "source": [
    "11. Create a function `weibfunc()` for which you can use to calculate $f(u)$."
   ]
  },
  {
   "cell_type": "code",
   "execution_count": null,
   "metadata": {},
   "outputs": [],
   "source": []
  },
  {
   "cell_type": "markdown",
   "metadata": {},
   "source": [
    "12. Use `numpy.linspace()` to create an evenly spaced array of 100 numbers with in the interval 0 to 18. Assign variable `xi` to the return value."
   ]
  },
  {
   "cell_type": "code",
   "execution_count": null,
   "metadata": {},
   "outputs": [],
   "source": []
  },
  {
   "cell_type": "markdown",
   "metadata": {},
   "source": [
    "13. Call `weibfunc()` and assign its return to variable `y`. Use `xi` and the estimated Weibull parameters, `ALine` and `kLine`, as the function's inputs."
   ]
  },
  {
   "cell_type": "code",
   "execution_count": null,
   "metadata": {},
   "outputs": [],
   "source": []
  },
  {
   "cell_type": "markdown",
   "metadata": {},
   "source": [
    "14. Compare fit to the Weibull function. \n",
    "    - Plot `xi` versus `y` as a line.\n",
    "    - Plot `midcx` versus `hy` as data points.\n",
    "    - Plot the histogram in step 4. Apply a light `color` for better visualization (for example: `'lightgreen'`, `'lightblue'`, ...). \n",
    "    \n",
    "Does it look like a good fit?"
   ]
  },
  {
   "cell_type": "code",
   "execution_count": null,
   "metadata": {},
   "outputs": [],
   "source": []
  },
  {
   "cell_type": "markdown",
   "metadata": {},
   "source": [
    "## **Exercise 2.2 - Non-linear fitting**"
   ]
  },
  {
   "cell_type": "markdown",
   "metadata": {},
   "source": [
    "Determine the same Weibull parameters using a Non-linear curve fit to the Weibull function\n",
    "on the same set of measurements.\n",
    "Also plot this Weibull function with the determined parameters in the same graph as the\n",
    "normalized wind speed distribution to get an idea of the quality of the determined fit\n",
    "parameters.\n",
    "Which of both methods gives more reliable results? Please argue"
   ]
  },
  {
   "cell_type": "markdown",
   "metadata": {},
   "source": [
    "### Hint to solution\n",
    "Use the `scipy_opt.curve_fit` function (refer to **Example 3.3**) to make the non-linear fit for the Weibull distribution function $f(u)$ already defined earlier in your code as `weibfunc()`. Create a figure with both plots, the linear and non-linear fits, and the data points and histogram (refer to step 13)."
   ]
  },
  {
   "cell_type": "code",
   "execution_count": null,
   "metadata": {},
   "outputs": [],
   "source": []
  },
  {
   "cell_type": "markdown",
   "metadata": {},
   "source": [
    "## Good Luck!"
   ]
  }
 ],
 "metadata": {
  "kernelspec": {
   "display_name": "Python 3",
   "language": "python",
   "name": "python3"
  },
  "language_info": {
   "codemirror_mode": {
    "name": "ipython",
    "version": 3
   },
   "file_extension": ".py",
   "mimetype": "text/x-python",
   "name": "python",
   "nbconvert_exporter": "python",
   "pygments_lexer": "ipython3",
   "version": "3.8.3"
  }
 },
 "nbformat": 4,
 "nbformat_minor": 4
}
