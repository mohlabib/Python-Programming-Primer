{
 "cells": [
  {
   "cell_type": "markdown",
   "metadata": {},
   "source": [
    "# Exercise 2 Notebook\n",
    "After reading [Chapter 3](03_modelling.ipynb) and understanding the given examples, you can try solving the below exercises. Steps to solution are given to facilitate how you go through the exercise. However, feel free to use your own logic and go through the exercise yourself if you want to."
   ]
  },
  {
   "cell_type": "markdown",
   "metadata": {},
   "source": [
    "## **Exercise 2.1 — Linear fitting**\n",
    "<br>\n",
    "In the file 'meteo82d.dat' we can find the average wind speed for the given time periods in\n",
    "column 15.\n",
    "Read this data and create a normalized wind speed distribution (bins 0-1, 1-2 ,…m/s). This\n",
    "distribution is commonly modelled with the Weibull-distribution:\n",
    "$$ f(u) = \\frac{k}{A} \\cdot (\\frac{u}{A})^{k-1} \\cdot e^{{-(\\frac{u}{A})^k}}$$\n",
    "where $u$ is the wind speed in ms$^{-1}$.\n",
    "\n",
    "\n",
    "> Hint: Double click the equation to zoom in (in case you're using JupyterLab)."
   ]
  },
  {
   "cell_type": "markdown",
   "metadata": {},
   "source": [
    "In order to find the two Weibull parameters $A$ and $k$ we need to use the fitting techniques we have learned. One approach is linearization. The trick is to perform a fit not on the histogram but actually on its integral (compare \"Cumulative Distribution Function\"), which you can calculate easily from the measurement data. The resultant cumulative distribution is modelled using the equation: $$F(u) = 1 - e^{-(\\frac{u}{A})^k}$$\n",
    "Obviously this is not a linear function, yet by applying two mathematical manipulations we can transform this into a linearized form. This is detailed [here](http://reliawiki.org/index.php/Parameter_Estimation) (notice that they use different symbols but the function is essentially the same)."
   ]
  },
  {
   "cell_type": "markdown",
   "metadata": {},
   "source": [
    "The resultant linear function is shown below: $$\\ln \\left({\\ln\\left({\\frac{1}{1-F(u)}}\\right)} \\right) = k \\cdot \\ln(u) - k \\cdot \\ln(A)$$ "
   ]
  },
  {
   "cell_type": "markdown",
   "metadata": {},
   "source": [
    "With this, perform a linear fit and determine from the slope and offset the Weibull parameters. Finally plot your modelled Weibull distribution with the measurement data to get an idea about the fit quality\n",
    "> Hint: If it becomes necessary to assign a numerical value to a bin. It is reasonable to use its center value, e.g: bin 1-2 $\\rightarrow$ 1.5\n",
    "\n",
    "**All plots shall contain x and y axes labels, title, and a legend if necessary.**"
   ]
  },
  {
   "cell_type": "markdown",
   "metadata": {},
   "source": [
    "### Steps to solution"
   ]
  },
  {
   "cell_type": "markdown",
   "metadata": {},
   "source": [
    "1. Import the necessary libraries."
   ]
  },
  {
   "cell_type": "code",
   "execution_count": 1,
   "metadata": {},
   "outputs": [],
   "source": [
    "import pandas as pd"
   ]
  },
  {
   "cell_type": "code",
   "execution_count": 2,
   "metadata": {},
   "outputs": [],
   "source": [
    "import matplotlib.pyplot as plt\n",
    "import numpy as np"
   ]
  },
  {
   "cell_type": "code",
   "execution_count": 3,
   "metadata": {},
   "outputs": [],
   "source": [
    "import scipy.optimize as scipy_opt"
   ]
  },
  {
   "cell_type": "markdown",
   "metadata": {},
   "source": [
    "2. Read the data from the 'meteo82d.dat' file and store it in a variable `meteo82`. If you will call the file directly, using only its name (refer to **Example 3.1**) make sure it is located in the same path as this notebook."
   ]
  },
  {
   "cell_type": "code",
   "execution_count": 4,
   "metadata": {},
   "outputs": [],
   "source": [
    "meteo82 = pd.read_csv('meteo82d.dat', delimiter = '\\t', header = None)"
   ]
  },
  {
   "cell_type": "markdown",
   "metadata": {},
   "source": [
    "3. Store the all the values in column 15 in `meteo82` in a variable `u_avg`."
   ]
  },
  {
   "cell_type": "code",
   "execution_count": 5,
   "metadata": {},
   "outputs": [],
   "source": [
    "u_avg = meteo82.iloc[:,14]"
   ]
  },
  {
   "cell_type": "markdown",
   "metadata": {},
   "source": [
    "4. Plotting a histogram for the Weibull distribution using `matplotlib.pyplot.hist()`:\n",
    "    - In order to have bins of approximately 1 ms$^{-1}$ size. The parameter `bins` (check [documentation](https://matplotlib.org/stable/api/_as_gen/matplotlib.pyplot.hist.html)) shall be equal to the integer from the subtraction of maximum and minimum values of `u_avg`. \n",
    "    - From the documentation, check which parameter shall return a **probability density** and apply it.\n",
    "    - Check the *Returns* section and assign the variables `hy`, `hx` and `hp` (in that order) to the return values."
   ]
  },
  {
   "cell_type": "markdown",
   "metadata": {},
   "source": [
    "💡> <font color=red> Make sure to undersatnd what the variables `hy` and `hx` represent. </font>"
   ]
  },
  {
   "cell_type": "code",
   "execution_count": 19,
   "metadata": {},
   "outputs": [
    {
     "data": {
      "text/plain": [
       "[Text(0, 0.5, 'Probability'), Text(0.5, 0, 'Wind Speed (ms$^-1$)')]"
      ]
     },
     "execution_count": 19,
     "metadata": {},
     "output_type": "execute_result"
    },
    {
     "data": {
      "image/png": "[encoded data removed]",
      "text/plain": [
       "<Figure size 720x432 with 1 Axes>"
      ]
     },
     "metadata": {
      "needs_background": "light"
     },
     "output_type": "display_data"
    }
   ],
   "source": [
    "fig, ax = plt.subplots(figsize=(10,6)) \n",
    "hy, hx, hp = ax.hist(u_avg, bins= int(np.max(u_avg) - np.min(u_avg)), density=True)\n",
    "ax.set(xlabel = 'Wind Speed (ms$^-1$)', ylabel = 'Probability')"
   ]
  },
  {
   "cell_type": "markdown",
   "metadata": {},
   "source": [
    "5. Plot and use the return values from the CDF using `matplotlib.pyplot.hist()`. Use the same parameters used in the last step. Moreover, apply the following two points (check the function's documentation):\n",
    "    - Check which parameter can return the **cumulative distribution** and apply it.\n",
    "    - Check the *Returns* section and assign the variables `cy`, `cx` and `cp` (in that order) to the return values."
   ]
  },
  {
   "cell_type": "code",
   "execution_count": 8,
   "metadata": {},
   "outputs": [
    {
     "data": {
      "image/png": "[encoded data removed]",
      "text/plain": [
       "<Figure size 432x288 with 1 Axes>"
      ]
     },
     "metadata": {
      "needs_background": "light"
     },
     "output_type": "display_data"
    }
   ],
   "source": [
    "cy, cx, cp = plt.hist(u_avg, bins = 17, density = True, cumulative=True)"
   ]
  },
  {
   "cell_type": "markdown",
   "metadata": {},
   "source": [
    "6. Create a `for` loop to create an array with values of the bins mid-points (e.g: bin 1-2 $\\rightarrow$ 1.5). Store the resultant array in variable `midcx`."
   ]
  },
  {
   "cell_type": "code",
   "execution_count": 10,
   "metadata": {},
   "outputs": [],
   "source": [
    "midcx = np.zeros(len(cx)-1)\n",
    "midcx[0] = (cx[0] + cx[1])/2\n",
    "for i in range(1,len(cx)-1):\n",
    "    midcx[i] = (cx[i+1] + cx[i]) / 2"
   ]
  },
  {
   "cell_type": "code",
   "execution_count": 31,
   "metadata": {},
   "outputs": [],
   "source": [
    "# midcx = (cx[1:] + cx[:-1]) / 2 another solution"
   ]
  },
  {
   "cell_type": "markdown",
   "metadata": {},
   "source": [
    "7. Draw a line plot for the CDF using `midcx` and `cy` for the x and y axes respectively."
   ]
  },
  {
   "cell_type": "code",
   "execution_count": 11,
   "metadata": {},
   "outputs": [
    {
     "data": {
      "text/plain": [
       "[<matplotlib.lines.Line2D at 0x1cb25cf94c0>]"
      ]
     },
     "execution_count": 11,
     "metadata": {},
     "output_type": "execute_result"
    },
    {
     "data": {
      "image/png": "[encoded data removed]",
      "text/plain": [
       "<Figure size 432x288 with 1 Axes>"
      ]
     },
     "metadata": {
      "needs_background": "light"
     },
     "output_type": "display_data"
    }
   ],
   "source": [
    "plt.plot(midcx, cy)"
   ]
  },
  {
   "cell_type": "markdown",
   "metadata": {},
   "source": [
    "The resultant line plot from step 7 can be modelled using the function: $F(u) = 1 - e^{-(\\frac{u}{A})^k}$. Using the linearization approach as discussed earlier, the function obtained is: $\\ln \\left({\\ln\\left({\\frac{1}{1-F(u)}}\\right)} \\right) = k \\cdot \\ln(u) - k \\cdot \\ln(A)$. In this case, a linear fit can be used to determine the values of $A$ and $k$. \n",
    "\n",
    "💡> <font color=red> What variables in your code correspond to the values of $F(u)$ and $u$? </font>"
   ]
  },
  {
   "cell_type": "markdown",
   "metadata": {},
   "source": [
    "8. Using the equation of line: $y = mx + c$. Assign the respective values of $y$ and $x$ in the function $\\ln \\left({\\ln\\left({\\frac{1}{1-F(u)}}\\right)} \\right) = k \\cdot \\ln(u) - k \\cdot \\ln(A)$ to variables `yLine` and `xLine`. You will need to exclude any element with a value of 1 for calculation in the `np.log()` function."
   ]
  },
  {
   "cell_type": "code",
   "execution_count": 12,
   "metadata": {},
   "outputs": [],
   "source": [
    "yLine = np.log(np.log(1/(1 - cy[:16])))"
   ]
  },
  {
   "cell_type": "code",
   "execution_count": 13,
   "metadata": {},
   "outputs": [],
   "source": [
    "xLine = np.log(midcx[:16])"
   ]
  },
  {
   "cell_type": "markdown",
   "metadata": {},
   "source": [
    "9. Using `xLine` and `yLine`, perform a linear fit and plot the data and fitting line. Refer to **Example 3.2** for support (use same variables names when possible)."
   ]
  },
  {
   "cell_type": "code",
   "execution_count": 14,
   "metadata": {},
   "outputs": [
    {
     "name": "stdout",
     "output_type": "stream",
     "text": [
      "[ 1.53338629 -1.97609248]\n"
     ]
    },
    {
     "data": {
      "text/plain": [
       "<matplotlib.legend.Legend at 0x1cb2650d670>"
      ]
     },
     "execution_count": 14,
     "metadata": {},
     "output_type": "execute_result"
    },
    {
     "data": {
      "image/png": "[encoded data removed]",
      "text/plain": [
       "<Figure size 432x288 with 1 Axes>"
      ]
     },
     "metadata": {
      "needs_background": "light"
     },
     "output_type": "display_data"
    }
   ],
   "source": [
    "n = 1 #Degree of polynomial\n",
    "\n",
    "p = np.polyfit(xLine, yLine, n) \n",
    "print(p)\n",
    "\n",
    "Ti = np.linspace(-4, 3.5, 200)\n",
    "fit_y = np.polyval(p, Ti) #Takes coefficients and calculates values at specified points\n",
    "\n",
    "#Show results as figure \n",
    "fig, ax = plt.subplots() \n",
    "ax.plot(xLine, yLine, \"o\", Ti, fit_y, \"-\") \n",
    "plt.legend([\"data\", \"polyfit\"], loc=\"best\")"
   ]
  },
  {
   "cell_type": "markdown",
   "metadata": {},
   "source": [
    "💡> <font color=red> What do the values in `p` represent? Compare to the equation of line.</font>"
   ]
  },
  {
   "cell_type": "markdown",
   "metadata": {},
   "source": [
    "10. Comparing the linearization equation $\\ln \\left({\\ln\\left({\\frac{1}{1-F(u)}}\\right)} \\right) = k \\cdot \\ln(u) - k \\cdot \\ln(A)$ to the equation of line again, you shall recognize that $k$ is the slope $m$ and $A$ is equal to $e^{(-\\frac{b}{k})}$. Assign the values of $k$ and $A$ to variables `kLine` and `ALine`. "
   ]
  },
  {
   "cell_type": "code",
   "execution_count": 15,
   "metadata": {},
   "outputs": [],
   "source": [
    "k = p[0]\n",
    "A = float(np.exp(-p[1]/[p[0]]))"
   ]
  },
  {
   "cell_type": "markdown",
   "metadata": {},
   "source": [
    "Finally, we have now the values for the Weibull distribution function parameters $k$ and $A$. Now you need to plot the Weibull distribution function: $ f(u) = \\frac{k}{A} \\cdot (\\frac{u}{A})^{k-1} \\cdot e^{{-(\\frac{u}{A})^k}}$ using the parameters you obtained and the `midcx` variable as $u$ and compare it to the histogram in step 4."
   ]
  },
  {
   "cell_type": "markdown",
   "metadata": {},
   "source": [
    "11. Create a function `weibfunc()` for which you can use to calculate $f(u)$."
   ]
  },
  {
   "cell_type": "code",
   "execution_count": 16,
   "metadata": {},
   "outputs": [],
   "source": [
    "def weibfunc(x, k, A):\n",
    "    return (k/A)*((x/A)**(k-1))*np.exp(-(x/A)**k)"
   ]
  },
  {
   "cell_type": "markdown",
   "metadata": {},
   "source": [
    "12. Use `numpy.linspace()` to create an evenly spaced array of 100 numbers with in the interval 0 to 18. Assign variable `xi` to the return value."
   ]
  },
  {
   "cell_type": "code",
   "execution_count": 32,
   "metadata": {},
   "outputs": [],
   "source": [
    "xi = np.linspace(0,18,100) #x-axis points at which to evaluate polynomial for graph"
   ]
  },
  {
   "cell_type": "markdown",
   "metadata": {},
   "source": [
    "13. Call `weibfunc()` and assign its return to variable `y`. Use `xi` and the estimated Weibull parameters, `ALine` and `kLine`, as the function's inputs."
   ]
  },
  {
   "cell_type": "code",
   "execution_count": 33,
   "metadata": {},
   "outputs": [],
   "source": [
    "y = weibfunc(xi, k, A)"
   ]
  },
  {
   "cell_type": "markdown",
   "metadata": {},
   "source": [
    "13. Compare fit to the Weibull function. \n",
    "    - Plot `xi` versus `y` as a line.\n",
    "    - Plot `midcx` versus `hy` as data points.\n",
    "    - Plot the histogram in step 4. Apply a light `color` for better visualization (for example: `'lightgreen'`, `'lightblue'`, ...). \n",
    "    \n",
    "Does it look like a good fit?"
   ]
  },
  {
   "cell_type": "code",
   "execution_count": 29,
   "metadata": {},
   "outputs": [
    {
     "data": {
      "text/plain": [
       "(array([5.05468833e-02, 1.60554051e-01, 2.04669746e-01, 1.91356058e-01,\n",
       "        1.45773601e-01, 8.75544229e-02, 6.70197515e-02, 3.70075396e-02,\n",
       "        2.29040565e-02, 1.02673357e-02, 6.31836041e-03, 2.59504088e-03,\n",
       "        9.02622916e-04, 4.51311458e-04, 1.12827865e-04, 2.25655729e-04,\n",
       "        1.12827865e-04]),\n",
       " array([ 0.        ,  1.01176471,  2.02352941,  3.03529412,  4.04705882,\n",
       "         5.05882353,  6.07058824,  7.08235294,  8.09411765,  9.10588235,\n",
       "        10.11764706, 11.12941176, 12.14117647, 13.15294118, 14.16470588,\n",
       "        15.17647059, 16.18823529, 17.2       ]),\n",
       " <a list of 17 Patch objects>)"
      ]
     },
     "execution_count": 29,
     "metadata": {},
     "output_type": "execute_result"
    },
    {
     "data": {
      "image/png": "[encoded data removed]",
      "text/plain": [
       "<Figure size 432x288 with 1 Axes>"
      ]
     },
     "metadata": {
      "needs_background": "light"
     },
     "output_type": "display_data"
    }
   ],
   "source": [
    "plt.plot(midcx, hy, 'o', xi, y, '-')\n",
    "plt.hist(u_avg, bins=17, density=True, color='lightgreen')"
   ]
  },
  {
   "cell_type": "markdown",
   "metadata": {},
   "source": [
    "## **Exercise 2.2 - Non-linear fitting**"
   ]
  },
  {
   "cell_type": "markdown",
   "metadata": {},
   "source": [
    "Determine the same Weibull parameters using a Non-linear curve fit to the Weibull function\n",
    "on the same set of measurements.\n",
    "Also plot this Weibull function with the determined parameters in the same graph as the\n",
    "normalized wind speed distribution to get an idea of the quality of the determined fit\n",
    "parameters.\n",
    "Which of both methods gives more reliable results? Please argue"
   ]
  },
  {
   "cell_type": "markdown",
   "metadata": {},
   "source": [
    "### Hint to solution\n",
    "Use the `scipy_opt.curve_fit` function (refer to **Example 3.3**) to make the non-linear fit for the Weibull distribution function $f(u)$ already defined earlier in your code as `weibfunc()`. Create a figure with both plots, the linear and non-linear fits, and the data points and histogram (refer to step 13)."
   ]
  },
  {
   "cell_type": "code",
   "execution_count": 30,
   "metadata": {},
   "outputs": [
    {
     "name": "stdout",
     "output_type": "stream",
     "text": [
      "[1.92630426 4.13531202]\n"
     ]
    },
    {
     "data": {
      "text/plain": [
       "(array([5.05468833e-02, 1.60554051e-01, 2.04669746e-01, 1.91356058e-01,\n",
       "        1.45773601e-01, 8.75544229e-02, 6.70197515e-02, 3.70075396e-02,\n",
       "        2.29040565e-02, 1.02673357e-02, 6.31836041e-03, 2.59504088e-03,\n",
       "        9.02622916e-04, 4.51311458e-04, 1.12827865e-04, 2.25655729e-04,\n",
       "        1.12827865e-04]),\n",
       " array([ 0.        ,  1.01176471,  2.02352941,  3.03529412,  4.04705882,\n",
       "         5.05882353,  6.07058824,  7.08235294,  8.09411765,  9.10588235,\n",
       "        10.11764706, 11.12941176, 12.14117647, 13.15294118, 14.16470588,\n",
       "        15.17647059, 16.18823529, 17.2       ]),\n",
       " <a list of 17 Patch objects>)"
      ]
     },
     "execution_count": 30,
     "metadata": {},
     "output_type": "execute_result"
    },
    {
     "data": {
      "image/png": "[encoded data removed]",
      "text/plain": [
       "<Figure size 432x288 with 1 Axes>"
      ]
     },
     "metadata": {
      "needs_background": "light"
     },
     "output_type": "display_data"
    }
   ],
   "source": [
    "popt, pcov = scipy_opt.curve_fit(weibfunc, midcx, hy, p0 = np.array([k,A])) \n",
    "print(popt)\n",
    "xi = np.linspace(0,18,100) #x-axis points at which to evaluate polynomial for graph\n",
    "fit_y= weibfunc(xi, popt[0], popt[1]) #Takes coefficients and calculates values at specified points\n",
    "\n",
    "#Show results as figure\n",
    "fig, ax = plt.subplots()\n",
    "ax.plot(midcx, hy, \"o\", xi, fit_y, \"-\", xi, y, '-') \n",
    "plt.legend([\"data\", \"non-linfit\", 'linfit'], loc=\"best\")\n",
    "ax.set(xlabel=\"Voltage\", ylabel=\"Current\")\n",
    "#ax.set(xlim=(0, 22.05), ylim=(-0.5, 4))\n",
    "plt.hist(u_avg, bins=17, density=True, color='lightblue')"
   ]
  },
  {
   "cell_type": "markdown",
   "metadata": {},
   "source": [
    "## Good Luck!"
   ]
  }
 ],
 "metadata": {
  "kernelspec": {
   "display_name": "Python 3",
   "language": "python",
   "name": "python3"
  },
  "language_info": {
   "codemirror_mode": {
    "name": "ipython",
    "version": 3
   },
   "file_extension": ".py",
   "mimetype": "text/x-python",
   "name": "python",
   "nbconvert_exporter": "python",
   "pygments_lexer": "ipython3",
   "version": "3.8.3"
  }
 },
 "nbformat": 4,
 "nbformat_minor": 4
}
