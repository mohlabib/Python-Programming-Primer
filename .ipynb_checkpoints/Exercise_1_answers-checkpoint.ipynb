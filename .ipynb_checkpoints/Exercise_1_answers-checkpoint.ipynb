{
 "cells": [
  {
   "cell_type": "markdown",
   "metadata": {},
   "source": [
    "## **Exercise 1.1 — Plotting**\n",
    "<br>\n",
    "Plot the current-voltage characteristic (more commonly referred to as $I(U)$ characteristic) of a photovoltaic device for various radiation intensities $G$ in a single graph. \n",
    "<br>\n",
    "The $I(U)$ behaviour of the photovoltaic device is modelled using the equation: \n",
    "$$\\begin{equation}\n",
    "    I=I_{ph}-I_0*(e^{\\frac{qU}{nkT}}-1)\n",
    "    \\end{equation} $$ \n",
    "Use a loop to repeat the calculations for different $G$ = 200 | 400| 600 | 800 | 1000 ($W/m^2$). The photocurrent $I_{ph}$ shall be proportional to the irradiation intensity $G$ according to: $I_{ph} = G * 0.2$ $Am^2/W$.\n",
    "<br>\n",
    "As for the remaining parameters use: $kq=8.617*10^{-5}$ $V/K$, alternatively: $k=8.617*10^{−5}$ $eV/K$, \n",
    "<br>\n",
    "$n=1.1$, \n",
    "<br>\n",
    "$T=300$ $K$, \n",
    "<br>\n",
    "$I_0 = I_{00}T^3*e^{\\frac{-Eg}{kT}}$, with the energy bandgap of silicon $E_g=1.114$ $eV$ and the constant $I_{00} = 17.9$ $mA/K^3$.\n",
    "<br>\n",
    "Adjust the axes of the graph such that only those parts of the lines in the 1st quadrant are nicely shown."
   ]
  },
  {
   "cell_type": "markdown",
   "metadata": {},
   "source": [
    "### Steps to solution\n",
    "1. Using `numpy`, define a `G` array, with one row and five columns holding the values stated above."
   ]
  },
  {
   "cell_type": "code",
   "execution_count": 1,
   "metadata": {},
   "outputs": [],
   "source": [
    "import numpy as np"
   ]
  },
  {
   "cell_type": "code",
   "execution_count": 2,
   "metadata": {},
   "outputs": [],
   "source": [
    "%matplotlib widget"
   ]
  },
  {
   "cell_type": "code",
   "execution_count": 3,
   "metadata": {},
   "outputs": [],
   "source": [
    "G = np.array([200,400,600,800,1000])"
   ]
  },
  {
   "cell_type": "code",
   "execution_count": 4,
   "metadata": {},
   "outputs": [
    {
     "data": {
      "text/plain": [
       "(5,)"
      ]
     },
     "execution_count": 4,
     "metadata": {},
     "output_type": "execute_result"
    }
   ],
   "source": [
    "G.shape"
   ]
  },
  {
   "cell_type": "markdown",
   "metadata": {},
   "source": [
    "2. Define a `V` variable, using the `linspace` function. `V` shall have a range from 0 to 1.2, with atleast 100 values in between."
   ]
  },
  {
   "cell_type": "code",
   "execution_count": 5,
   "metadata": {},
   "outputs": [],
   "source": [
    "V = np.linspace(0,1.2,100)"
   ]
  },
  {
   "cell_type": "code",
   "execution_count": 6,
   "metadata": {},
   "outputs": [
    {
     "data": {
      "text/plain": [
       "(100,)"
      ]
     },
     "execution_count": 6,
     "metadata": {},
     "output_type": "execute_result"
    }
   ],
   "source": [
    "V.shape"
   ]
  },
  {
   "cell_type": "markdown",
   "metadata": {},
   "source": [
    "3. Define an `I` variable (with zero values), with rows=`len(G)` and cloumns=`len(V)`."
   ]
  },
  {
   "cell_type": "code",
   "execution_count": 7,
   "metadata": {},
   "outputs": [],
   "source": [
    "I = np.zeros(shape=(len(G),len(V)))"
   ]
  },
  {
   "cell_type": "code",
   "execution_count": 8,
   "metadata": {},
   "outputs": [
    {
     "data": {
      "text/plain": [
       "(5, 100)"
      ]
     },
     "execution_count": 8,
     "metadata": {},
     "output_type": "execute_result"
    }
   ],
   "source": [
    "I.shape"
   ]
  },
  {
   "cell_type": "markdown",
   "metadata": {},
   "source": [
    "4. Define the following variables using the above given information and units in the square brackets:\n",
    "    - `I_ph` [$A$]\n",
    "    - `k` [$eV/K$] (in this case you can define `q` = 1)\n",
    "    - `q`\n",
    "    - `n`\n",
    "    - `T` [$K$]\n",
    "    - `E_g` [$eV$]\n",
    "    - `I_00` [$A/K^3$]\n",
    "    - `I_0` [$A$]"
   ]
  },
  {
   "cell_type": "code",
   "execution_count": 9,
   "metadata": {},
   "outputs": [],
   "source": [
    "I_ph = G*0.2\n",
    "k = 8.617*(10**(-5))\n",
    "q = 1\n",
    "n = 1.1\n",
    "T = 300\n",
    "E_g = 1.114\n",
    "I_00 = 17.9*(10**(-3))\n",
    "I_0 = I_00*(T**3)*np.exp((-E_g)/(k*T))"
   ]
  },
  {
   "cell_type": "code",
   "execution_count": 10,
   "metadata": {},
   "outputs": [
    {
     "data": {
      "text/plain": [
       "(5,)"
      ]
     },
     "execution_count": 10,
     "metadata": {},
     "output_type": "execute_result"
    }
   ],
   "source": [
    "I_ph.shape"
   ]
  },
  {
   "cell_type": "markdown",
   "metadata": {},
   "source": [
    "5. Create a nested `for` loop to calculate the values of elements in `I`. For every row in `I` calculate the value for every column in `I`.\n",
    "```python\n",
    "for every row in I:\n",
    "    for every column in I:\n",
    "        calculate I\n",
    "```"
   ]
  },
  {
   "cell_type": "code",
   "execution_count": 11,
   "metadata": {},
   "outputs": [],
   "source": [
    "for i in range(len(G)):\n",
    "    for j in range(len(V)):\n",
    "        I[i,j] = I_ph[i] - I_0*(np.exp(q*V[j]/(n*k*T))-1)"
   ]
  },
  {
   "cell_type": "markdown",
   "metadata": {},
   "source": [
    "6. Plot the $I(U)$ curves:\n",
    "    - import matplotlib.pyplot\n",
    "    - use the `plt.subplots()` function to initialize a figure. Use the `figsize` option to choose a proper figure size.\n",
    "    - create a `for` loop to plot a curve for each level of radiation in `G`\n",
    "    - use `ax.plot` function for plotting, and define a label for each curve to be plotted\n",
    "    - use `ax.set` function to set the axes labels, figure title and axes limits (use a ylim = [0,220])\n",
    "    - add a grid and legend to your figure"
   ]
  },
  {
   "cell_type": "code",
   "execution_count": 12,
   "metadata": {},
   "outputs": [
    {
     "data": {
      "application/vnd.jupyter.widget-view+json": {
       "model_id": "a5521ae902f943148627e16dc24637c4",
       "version_major": 2,
       "version_minor": 0
      },
      "text/plain": [
       "Canvas(toolbar=Toolbar(toolitems=[('Home', 'Reset original view', 'home', 'home'), ('Back', 'Back to previous …"
      ]
     },
     "metadata": {},
     "output_type": "display_data"
    }
   ],
   "source": [
    "import matplotlib.pyplot as plt\n",
    "\n",
    "for k in range(len(G)):\n",
    "    plt.plot(V, I[k,:], label = \"G = \" + str(G[k]) + \" W/sqm\")\n",
    "plt.ylim([0,220])\n",
    "plt.legend()\n",
    "plt.title(\"I(U) characteristics at different irradiation levels\")\n",
    "plt.xlabel(\"Voltage ($V$)\")\n",
    "plt.ylabel(\"Current ($I$)\")\n",
    "plt.grid()"
   ]
  },
  {
   "cell_type": "code",
   "execution_count": 13,
   "metadata": {},
   "outputs": [
    {
     "data": {
      "application/vnd.jupyter.widget-view+json": {
       "model_id": "fad83ac18c3c4c8a8fa74fba9d6ac833",
       "version_major": 2,
       "version_minor": 0
      },
      "text/plain": [
       "Canvas(toolbar=Toolbar(toolitems=[('Home', 'Reset original view', 'home', 'home'), ('Back', 'Back to previous …"
      ]
     },
     "metadata": {},
     "output_type": "display_data"
    }
   ],
   "source": [
    "fig, ax = plt.subplots(figsize=(10,6))\n",
    "for k in range(len(G)):\n",
    "    ax.plot(V,I[k,:], label = \"G = \" + str(G[k]) + \" $W/m^2$\")\n",
    "ax.set(xlabel = \"Voltage [$V$]\", ylabel = 'Current [$A$]', ylim = [0,220], title = 'I(U) characteristics at different irradiation levels')\n",
    "ax.grid()\n",
    "ax.legend()\n",
    "plt.show()"
   ]
  },
  {
   "cell_type": "markdown",
   "metadata": {},
   "source": [
    "## Exercise 1.2 - Functions\n",
    "\n",
    "Write a function `IUanalyzer` which takes an I(U) characteristic of a solar cell as argument and returns a vector of the following characteristic parameters: \n",
    "- maximum Power: $P_{mpp}$ (remember that Power = Voltage x Current and that there exists a function in Python to find the maximum in an array) \n",
    "- Voltage at maximum power point: $U_{mpp}$ \n",
    "- Current at maximum power point: $I_{mpp}$ \n",
    "- Efficiency ($\\eta$) $= \\frac {P_{mpp}}{G}$ \n",
    "- Short circuit current $I_{sc} = I(0)$ (equal to the photocurrent) \n",
    "- Open circuit voltage: $U_{oc}$ (remember: $I(U_{oc}) = 0$) \n",
    "- Fill factor ($FF$) $= \\frac{P_{mpp}}{I_{sc} \\cdot U_{oc}}$ \n",
    "\n",
    "By modifying your code from Exercise 1.1, loop through various temperatures: 20, 30, 40, 50, 60 °C and keep the illumination constant at 1000 $W/m^2$. During each loop iteration call `IUanalyzer`. Use this to plot $U_{oc}(T)$, $I_{sc}(T)$ and $\\eta(T)$ in separate figures."
   ]
  },
  {
   "cell_type": "markdown",
   "metadata": {},
   "source": [
    "### Steps to solution"
   ]
  },
  {
   "cell_type": "markdown",
   "metadata": {},
   "source": [
    "1. import necessary libraries: `numpy` and `matplotlib.pylpot`"
   ]
  },
  {
   "cell_type": "code",
   "execution_count": 2,
   "metadata": {},
   "outputs": [],
   "source": [
    "import numpy as np\n",
    "import matplotlib.pyplot as plt"
   ]
  },
  {
   "cell_type": "markdown",
   "metadata": {},
   "source": [
    "2. Create the function `IUanalyzer`\n",
    "    - use the `def` command to create the function. Use `I` and `V` as the function input arguments.\n",
    "    - assign a value of 1000 to the `G` variable.\n",
    "    - create variable array `P` with value equal to the element-wise multiplication of arrays `I` and `V`.\n",
    "    - assign the maximum value of `P` to `P_mpp`\n",
    "    - find the location of the maximum value of `P` and assign it to variable maximum power point:`mpp` (<font color=red> Hint: use `np.argmax()` function </font>)\n",
    "    - assign the element in `V` at index `mpp` to a variable `V_mpp` \n",
    "    - assign the element in `I` at index `mpp` to a variable `I_mpp` \n",
    "    - calculate the efficiency value and assign it to `eta`\n",
    "    - assign the element in `I` for the same index where `V` is equal to 0 to `I_sc` \n",
    "        1. follow same logic used to find `V_mpp` and `I_mpp`\n",
    "        2. you can use `np.where()` function\n",
    "        3. make sure to make `I_sc` an integer\n",
    "    - assign the element in `V` for the same index where `I` is **closest to 0** to `V_oc`\n",
    "        1. follow same logic used to find `I_sc`\n",
    "        2. you can use `np.argmin()` and `np.abs()` functions\n",
    "    - calculate the fill factor value and assign it to `FF`"
   ]
  },
  {
   "cell_type": "code",
   "execution_count": 50,
   "metadata": {},
   "outputs": [],
   "source": [
    "def IUanalyzer(I, V):\n",
    "    G = 1000\n",
    "    P = V*I\n",
    "    P_mpp = np.max(P)\n",
    "    mpp = np.argmax(P)\n",
    "    V_mpp = V[mpp]\n",
    "    I_mpp = I[mpp]\n",
    "    eta = P_mpp/G\n",
    "    I_sc = int(I[np.where(V==0)[0]])\n",
    "    V_oc = V[np.argmin(np.abs(I))]\n",
    "    FF = P_mpp/(I_sc*V_oc)\n",
    "    return [P_mpp, V_mpp, I_mpp, eta, I_sc, V_oc, FF]"
   ]
  },
  {
   "cell_type": "code",
   "execution_count": null,
   "metadata": {},
   "outputs": [],
   "source": []
  },
  {
   "cell_type": "markdown",
   "metadata": {},
   "source": [
    "3. Define a `V` variable, using the `linspace` function. `V` shall have a range from 0 to 1.2, with atleast 1000 values in between (the more the values the more the accuracy of your `V_oc` results)."
   ]
  },
  {
   "cell_type": "code",
   "execution_count": null,
   "metadata": {},
   "outputs": [],
   "source": [
    "V = np.linspace(0,1.2,1000)"
   ]
  },
  {
   "cell_type": "code",
   "execution_count": null,
   "metadata": {},
   "outputs": [],
   "source": [
    "V.shape"
   ]
  },
  {
   "cell_type": "markdown",
   "metadata": {},
   "source": [
    "3. Define an `I` variable (with zero values), with same length as that of `V`."
   ]
  },
  {
   "cell_type": "code",
   "execution_count": 7,
   "metadata": {},
   "outputs": [],
   "source": [
    "I = np.zeros(shape=(len(G),len(V)))"
   ]
  },
  {
   "cell_type": "code",
   "execution_count": 8,
   "metadata": {},
   "outputs": [
    {
     "data": {
      "text/plain": [
       "(5, 100)"
      ]
     },
     "execution_count": 8,
     "metadata": {},
     "output_type": "execute_result"
    }
   ],
   "source": [
    "I.shape"
   ]
  },
  {
   "cell_type": "markdown",
   "metadata": {},
   "source": [
    "4. Define the following variables using the above given information and units in the square brackets (mind the change in the value of $T$):\n",
    "    - `I_ph` [$A$]\n",
    "    - `k` [$eV/K$] (in this case you can define `q` = 1)\n",
    "    - `q`\n",
    "    - `n`\n",
    "    - `T` [$K$]\n",
    "    - `E_g` [$eV$]\n",
    "    - `I_00` [$A/K^3$]\n",
    "    - `I_0` [$A$]"
   ]
  },
  {
   "cell_type": "code",
   "execution_count": null,
   "metadata": {},
   "outputs": [],
   "source": []
  },
  {
   "cell_type": "code",
   "execution_count": null,
   "metadata": {},
   "outputs": [],
   "source": []
  }
 ],
 "metadata": {
  "kernelspec": {
   "display_name": "Python 3",
   "language": "python",
   "name": "python3"
  },
  "language_info": {
   "codemirror_mode": {
    "name": "ipython",
    "version": 3
   },
   "file_extension": ".py",
   "mimetype": "text/x-python",
   "name": "python",
   "nbconvert_exporter": "python",
   "pygments_lexer": "ipython3",
   "version": "3.8.3"
  }
 },
 "nbformat": 4,
 "nbformat_minor": 4
}
