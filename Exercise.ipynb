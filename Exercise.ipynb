{
 "cells": [
  {
   "cell_type": "markdown",
   "metadata": {},
   "source": [
    "## **Exercise 1.1 — Plotting**\n",
    "<br>\n",
    "Plot the current-voltage characteristic (more commonly referred to as $I(U)$ characteristic) of a photovoltaic device for various radiation intensities $G$ in a single graph. \n",
    "<br>\n",
    "The $I(U)$ behaviour of the photovoltaic device is modelled using the equation: \n",
    "$$\\begin{equation}\n",
    "    I=I_{ph}-I_0*(e^{\\frac{qU}{nkT}}-1)\n",
    "    \\end{equation} $$ \n",
    "Use a loop to repeat the calculations for different $G$ = 200 | 400| 600 | 800 | 1000 ($W/m^2$). The photocurrent $I_{ph}$ shall be proportional to the irradiation intensity $G$ according to: $I_{ph} = G * 0.2$ $Am^2/W$.\n",
    "<br>\n",
    "As for the remaining parameters use: $kq=8.617*10^{-5}$ $V/K$, alternatively: $k=8.617*10^{−5}$ $eV/K$, \n",
    "<br>\n",
    "$n=1.1$, \n",
    "<br>\n",
    "$T=300$ $K$, \n",
    "<br>\n",
    "$I_0 = I_{00}T^3*e^{\\frac{-Eg}{kT}}$, with the energy bandgap of silicon $E_g=1.114$ $eV$ and the constant $I_{00} = 17.9$ $mA/K^3$.\n",
    "<br>\n",
    "Adjust the axes of the graph such that only those parts of the lines in the 1st quadrant are nicely shown."
   ]
  },
  {
   "cell_type": "markdown",
   "metadata": {},
   "source": [
    "### Steps to solution\n",
    "1. Using numpy, define a $G$ array, with one row and five columns holding the values stated above."
   ]
  },
  {
   "cell_type": "code",
   "execution_count": 1,
   "metadata": {},
   "outputs": [],
   "source": [
    "import numpy as np"
   ]
  },
  {
   "cell_type": "code",
   "execution_count": 9,
   "metadata": {},
   "outputs": [
    {
     "name": "stdout",
     "output_type": "stream",
     "text": [
      "[[ 200  400  600  800 1000]]\n"
     ]
    },
    {
     "data": {
      "text/plain": [
       "(1, 5)"
      ]
     },
     "execution_count": 9,
     "metadata": {},
     "output_type": "execute_result"
    }
   ],
   "source": [
    "G = np.array([[200, 400, 600, 800, 1000]])\n",
    "print(G)\n",
    "G.shape"
   ]
  },
  {
   "cell_type": "markdown",
   "metadata": {},
   "source": [
    "2. Define a $V$ variable, using the linspace function. $V$ shall have a range from 0 to 1.2, with atleast 100 values in between."
   ]
  },
  {
   "cell_type": "code",
   "execution_count": 5,
   "metadata": {},
   "outputs": [],
   "source": [
    "V = np.linspace(0,1.2,100)"
   ]
  },
  {
   "cell_type": "code",
   "execution_count": 6,
   "metadata": {},
   "outputs": [
    {
     "name": "stdout",
     "output_type": "stream",
     "text": [
      "[0.         0.01212121 0.02424242 0.03636364 0.04848485 0.06060606\n",
      " 0.07272727 0.08484848 0.0969697  0.10909091 0.12121212 0.13333333\n",
      " 0.14545455 0.15757576 0.16969697 0.18181818 0.19393939 0.20606061\n",
      " 0.21818182 0.23030303 0.24242424 0.25454545 0.26666667 0.27878788\n",
      " 0.29090909 0.3030303  0.31515152 0.32727273 0.33939394 0.35151515\n",
      " 0.36363636 0.37575758 0.38787879 0.4        0.41212121 0.42424242\n",
      " 0.43636364 0.44848485 0.46060606 0.47272727 0.48484848 0.4969697\n",
      " 0.50909091 0.52121212 0.53333333 0.54545455 0.55757576 0.56969697\n",
      " 0.58181818 0.59393939 0.60606061 0.61818182 0.63030303 0.64242424\n",
      " 0.65454545 0.66666667 0.67878788 0.69090909 0.7030303  0.71515152\n",
      " 0.72727273 0.73939394 0.75151515 0.76363636 0.77575758 0.78787879\n",
      " 0.8        0.81212121 0.82424242 0.83636364 0.84848485 0.86060606\n",
      " 0.87272727 0.88484848 0.8969697  0.90909091 0.92121212 0.93333333\n",
      " 0.94545455 0.95757576 0.96969697 0.98181818 0.99393939 1.00606061\n",
      " 1.01818182 1.03030303 1.04242424 1.05454545 1.06666667 1.07878788\n",
      " 1.09090909 1.1030303  1.11515152 1.12727273 1.13939394 1.15151515\n",
      " 1.16363636 1.17575758 1.18787879 1.2       ]\n"
     ]
    }
   ],
   "source": [
    "print(V)"
   ]
  },
  {
   "cell_type": "markdown",
   "metadata": {},
   "source": [
    "3. Define an $I$ variable (with zero values), with rows=5 and cloumns=len(V)."
   ]
  },
  {
   "cell_type": "code",
   "execution_count": null,
   "metadata": {},
   "outputs": [],
   "source": [
    "I = np.array([])"
   ]
  },
  {
   "cell_type": "markdown",
   "metadata": {},
   "source": [
    "4. Define the following variables using the above data:\n",
    "    - $I_{ph}$ [$A$]\n",
    "    - $k$ [$eV/K$] (in this case you can define $q = 1$)\n",
    "    - $q$\n",
    "    - $n$\n",
    "    - $T$ [$K$]\n",
    "    - $E_g$ [$eV$]\n",
    "    - $I_{00}$ [$A/K^3$]\n",
    "    - $I_0$ [$A$]"
   ]
  },
  {
   "cell_type": "code",
   "execution_count": null,
   "metadata": {},
   "outputs": [],
   "source": []
  },
  {
   "cell_type": "code",
   "execution_count": null,
   "metadata": {},
   "outputs": [],
   "source": []
  }
 ],
 "metadata": {
  "kernelspec": {
   "display_name": "Python 3",
   "language": "python",
   "name": "python3"
  },
  "language_info": {
   "codemirror_mode": {
    "name": "ipython",
    "version": 3
   },
   "file_extension": ".py",
   "mimetype": "text/x-python",
   "name": "python",
   "nbconvert_exporter": "python",
   "pygments_lexer": "ipython3",
   "version": "3.8.3"
  }
 },
 "nbformat": 4,
 "nbformat_minor": 4
}
