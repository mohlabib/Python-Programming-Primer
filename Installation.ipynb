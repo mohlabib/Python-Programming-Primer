{
 "cells": [
  {
   "cell_type": "markdown",
   "metadata": {},
   "source": [
    "## Anaconda IDLE\n",
    "There are multiple variations on how to obtain Python. Here we recommend\n",
    "that you obtain Python as part of a software package which includes\n",
    "beside the Python compiler also additional tools to manage your\n",
    "installation, edit your code and manage your projects. Otherwise you\n",
    "would have to obtain these tools individually and run Python from the\n",
    "command line which we don't recommend for beginner programmers. Such a\n",
    "software package is called an Integrated Development (and Learning)\n",
    "Environment (IDE resp. IDLE). IDLEs provide better working environment\n",
    "since in addition to being an editor, it can also debug codes for errors\n",
    "and contains most of the python libraries and inbuilt packages.\n",
    "\n",
    "We recommend that you obtain the [Anaconda IDLE - Individual Edition](https://www.anaconda.com/products/individual) and will use\n",
    "this in this course. Of course you are free to use other Python IDLEs\n",
    "but can't guarantee to support you when there are differences. The\n",
    "above-mentioned IDLEs either use Python installed on the computer or a\n",
    "web based interactive Ipython to interpret the written codes.\n",
    "\n",
    "Anaconda is a free and open source distribution of Python and the R\n",
    "programming languages that simplifies package management and deployment.\n",
    "The Conda, provides a platform to install, run and update packages and\n",
    "their dependencies. A graphical user interface known as Anaconda\n",
    "Navigator makes it easier to start applications and manage the Conda\n",
    "packages, environments and channels without writing commands on\n",
    "command-line.\n",
    "\n",
    "### Installation\n",
    "\n",
    "Following the [Anaconda IDLE - Individual Edition](https://www.anaconda.com/products/individual) link, choose your operation system and\n",
    "the Python 3.8 variant which suits your computer best. After downloading\n",
    "the installer, run it and just use the default settings. The installation\n",
    "may take some time so feel free to grab a snack. After the installation\n",
    "has completed you should find an Anaconde folder in whatever your\n",
    "variation of the Windows start menu may be. Start the IDLE by clicking\n",
    "'Anaconda Navigator'. The Anaconda navigator opens all the Python and R software contained in\n",
    "the Anaconda distribution. \n",
    "\n",
    "#### Spyder IDLE\n",
    "One of the IDLEs contained in the Anaconda\n",
    "Navigator is the Spyder IDLE. An overview of the Spyder environment is available [here](https://www.spyder-ide.org/). You will need Spyder to run files with the '.py' extension. \n",
    "\n",
    "#### JupyterLab\n",
    "JupyterLab (the upgrade of Jupyter Notebook) is another interactive environment available in the 'Anaconda Navigator'. It provides the advantage of mixing text, code and the result of that code in one document. It is **mandatory** to have JupyterLab installed on your computer to go through this course contents and solve the given exercises.\n",
    "\n",
    "In case JupyterLab is missing in your 'Anaconda Navigator', you can install it using the following command in the Anaconda Command Prompt:\n",
    "\n",
    "`conda install -c conda-forge jupyterlab`\n",
    "\n",
    "Once JupyterLab is available, you can run it using the command `jupyter lab` in the Anaconda Command Prompt."
   ]
  }
 ],
 "metadata": {
  "kernelspec": {
   "display_name": "Python 3",
   "language": "python",
   "name": "python3"
  },
  "language_info": {
   "codemirror_mode": {
    "name": "ipython",
    "version": 3
   },
   "file_extension": ".py",
   "mimetype": "text/x-python",
   "name": "python",
   "nbconvert_exporter": "python",
   "pygments_lexer": "ipython3",
   "version": "3.8.3"
  }
 },
 "nbformat": 4,
 "nbformat_minor": 4
}
